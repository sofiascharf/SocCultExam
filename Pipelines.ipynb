{
 "cells": [
  {
   "cell_type": "markdown",
   "metadata": {},
   "source": [
    "# Load in data"
   ]
  },
  {
   "cell_type": "code",
   "execution_count": 98,
   "metadata": {},
   "outputs": [],
   "source": [
    "\n",
    "import pandas as pd\n",
    "from sklearn.model_selection import train_test_split\n",
    "\n",
    "df = pd.read_csv(\"./Data/depression_dataset_reddit_cleaned.csv\", sep=\";\")\n",
    "# Kolonner: 'clean_text', 'is_depression'\n"
   ]
  },
  {
   "cell_type": "code",
   "execution_count": 99,
   "metadata": {},
   "outputs": [
    {
     "name": "stdout",
     "output_type": "stream",
     "text": [
      "is_depression\n",
      "0    3900\n",
      "1    3831\n",
      "Name: count, dtype: int64\n"
     ]
    }
   ],
   "source": [
    "\n",
    "# only include texts of more than 20 words \n",
    "#df = df[df.clean_text.str.split().str.len() > 15]\n",
    "\n",
    "print(df['is_depression'].value_counts())\n",
    "\n",
    "# only include 20% of the data \n",
    "#df = df.sample(frac=0.2, random_state=42)\n",
    "\n",
    "# split til træning/test (80/20) – vi genbruger denne split for alle metoder\n",
    "\n",
    "df_train, df_test = train_test_split(\n",
    "    df, test_size=0.2, stratify=df.is_depression, random_state=42\n",
    ")\n",
    "\n",
    "X_train_texts = df_train.clean_text.tolist()\n",
    "y_train = df_train.is_depression.values\n",
    "X_test_texts  = df_test.clean_text.tolist()\n",
    "y_test = df_test.is_depression.values\n",
    "\n"
   ]
  },
  {
   "cell_type": "code",
   "execution_count": 100,
   "metadata": {},
   "outputs": [
    {
     "name": "stdout",
     "output_type": "stream",
     "text": [
      "Train set class distribution:\n",
      "is_depression\n",
      "0    3120\n",
      "1    3064\n",
      "Name: count, dtype: int64\n",
      "Test set class distribution:\n",
      "is_depression\n",
      "0    780\n",
      "1    767\n",
      "Name: count, dtype: int64\n"
     ]
    }
   ],
   "source": [
    "# get count of each class in df_train and df_text\n",
    "print(\"Train set class distribution:\")\n",
    "print(df_train.is_depression.value_counts())\n",
    "print(\"Test set class distribution:\")\n",
    "print(df_test.is_depression.value_counts())"
   ]
  },
  {
   "cell_type": "code",
   "execution_count": 101,
   "metadata": {},
   "outputs": [],
   "source": [
    "# create df_train_0 and df_train_1\n",
    "df_train_0 = df_train[df_train.is_depression == 0]\n",
    "df_train_1 = df_train[df_train.is_depression == 1]\n",
    "\n",
    "# create df_test_0 and df_test_1\n",
    "df_test_0 = df_test[df_test.is_depression == 0]\n",
    "df_test_1 = df_test[df_test.is_depression == 1]"
   ]
  },
  {
   "cell_type": "code",
   "execution_count": 102,
   "metadata": {},
   "outputs": [
    {
     "name": "stdout",
     "output_type": "stream",
     "text": [
      "Mean and std of class 0 in train set:\n",
      "Mean: 14.251923076923077, Std: 7.268804613350525\n",
      "Mean and std of class 1 in train set:\n",
      "Mean: 136.94060052219322, Std: 191.58488867554195\n",
      "Mean and std of class 0 in test set:\n",
      "Mean: 14.287179487179488, Std: 7.207155889389107\n",
      "Mean and std of class 1 in test set:\n",
      "Mean: 132.29726205997392, Std: 160.73432267554583\n"
     ]
    }
   ],
   "source": [
    "# get mean and std of each class in df_train\n",
    "mean_0 = df_train_0.clean_text.str.split().str.len().mean()\n",
    "std_0 = df_train_0.clean_text.str.split().str.len().std()\n",
    "mean_1 = df_train_1.clean_text.str.split().str.len().mean()\n",
    "std_1 = df_train_1.clean_text.str.split().str.len().std()\n",
    "print(\"Mean and std of class 0 in train set:\")\n",
    "print(f\"Mean: {mean_0}, Std: {std_0}\")\n",
    "print(\"Mean and std of class 1 in train set:\")\n",
    "print(f\"Mean: {mean_1}, Std: {std_1}\")\n",
    "# get mean and std of each class in df_test\n",
    "mean_0 = df_test_0.clean_text.str.split().str.len().mean()\n",
    "std_0 = df_test_0.clean_text.str.split().str.len().std()\n",
    "mean_1 = df_test_1.clean_text.str.split().str.len().mean()\n",
    "std_1 = df_test_1.clean_text.str.split().str.len().std()\n",
    "print(\"Mean and std of class 0 in test set:\")\n",
    "print(f\"Mean: {mean_0}, Std: {std_0}\")\n",
    "print(\"Mean and std of class 1 in test set:\")\n",
    "print(f\"Mean: {mean_1}, Std: {std_1}\")\n"
   ]
  },
  {
   "cell_type": "code",
   "execution_count": 103,
   "metadata": {},
   "outputs": [
    {
     "name": "stdout",
     "output_type": "stream",
     "text": [
      "Mean text length for 0: 14.251923076923077, SD: 7.268804613350525\n",
      "Mean text length for 1: 136.94060052219322, SD: 191.58488867554195\n"
     ]
    }
   ],
   "source": [
    "# split into a 0 and 1 df\n",
    "df_train_0 = df_train[df_train.is_depression == 0]\n",
    "df_train_1 = df_train[df_train.is_depression == 1]\n",
    "\n",
    "# find mean text length and sd text length for each df and print them\n",
    "mean_0 = df_train_0.clean_text.str.split().str.len().mean()\n",
    "sd_0 = df_train_0.clean_text.str.split().str.len().std()\n",
    "mean_1 = df_train_1.clean_text.str.split().str.len().mean()\n",
    "sd_1 = df_train_1.clean_text.str.split().str.len().std()\n",
    "print(f\"Mean text length for 0: {mean_0}, SD: {sd_0}\")\n",
    "print(f\"Mean text length for 1: {mean_1}, SD: {sd_1}\")\n",
    "# save train and test dat"
   ]
  },
  {
   "cell_type": "markdown",
   "metadata": {},
   "source": [
    "# Topic Modelling"
   ]
  },
  {
   "cell_type": "markdown",
   "metadata": {},
   "source": [
    "## Streamlined vectorizer, embedding model "
   ]
  },
  {
   "cell_type": "code",
   "execution_count": 104,
   "metadata": {},
   "outputs": [],
   "source": [
    "from sklearn.feature_extraction.text import CountVectorizer\n",
    "\n",
    "shared_vect = CountVectorizer(\n",
    "    max_features = 5000,\n",
    "    #stop_words   = \"english\",\n",
    "    token_pattern= r\"(?u)\\b\\w+\\b\",\n",
    ")\n",
    "\n",
    "# same embedding model for all models\n",
    "from sentence_transformers import SentenceTransformer\n",
    "embedder = SentenceTransformer(\"all-MiniLM-L6-v2\")"
   ]
  },
  {
   "cell_type": "markdown",
   "metadata": {},
   "source": [
    "## BERTopic m. MiniLM"
   ]
  },
  {
   "cell_type": "code",
   "execution_count": 105,
   "metadata": {},
   "outputs": [
    {
     "name": "stdout",
     "output_type": "stream",
     "text": [
      "Train shape: (6184, 20)\n",
      "Test  shape: (1547, 20)\n"
     ]
    }
   ],
   "source": [
    "from bertopic import BERTopic\n",
    "from sklearn.feature_extraction.text import CountVectorizer\n",
    "from sklearn.preprocessing import OneHotEncoder\n",
    "from umap import UMAP\n",
    "import numpy as np\n",
    "\n",
    "from umap import UMAP\n",
    "from bertopic import BERTopic\n",
    "\n",
    "# 1) Recreate UMAP exactly as BERTopic would—\n",
    "#    but add your random_state\n",
    "umap_model = UMAP(\n",
    "    n_neighbors=15,\n",
    "    n_components=5,     # this matches BERTopic’s default embedding dims\n",
    "    min_dist=0.0,\n",
    "    metric=\"cosine\",\n",
    "    low_memory=False,\n",
    "    random_state=42      # <— your fixed seed\n",
    ")\n",
    "\n",
    "# 2) Pass that UMAP into BERTopic\n",
    "topic_model = BERTopic(\n",
    "    embedding_model = embedder,\n",
    "    vectorizer_model = shared_vect,\n",
    "    umap_model       = umap_model,\n",
    "    nr_topics        = 20,\n",
    "    verbose          = False\n",
    ")\n",
    "\n",
    "\n",
    "# 3) Fit / transform as before\n",
    "train_topics, _ = topic_model.fit_transform(X_train_texts)\n",
    "test_topics,  _ = topic_model.transform(X_test_texts)\n",
    "\n",
    "# 4) One-hot encode the topic IDs\n",
    "enc = OneHotEncoder(sparse_output=False, handle_unknown=\"ignore\")\n",
    "X_train_bert = enc.fit_transform(np.array(train_topics).reshape(-1,1))\n",
    "X_test_bert  = enc.transform   (np.array(test_topics ).reshape(-1,1))\n",
    "\n",
    "print(\"Train shape:\", X_train_bert.shape)   # → (n_train, n_topics)\n",
    "print(\"Test  shape:\", X_test_bert.shape)    # → (n_test,  n_topics)\n"
   ]
  },
  {
   "cell_type": "code",
   "execution_count": 106,
   "metadata": {},
   "outputs": [],
   "source": [
    "# save topics x words as csv\n",
    "topics_df = topic_model.get_topic_info()\n",
    "# only keep columns 0 and 3\n",
    "topics_df = topics_df.loc[:, ['Topic', 'Representation']]\n",
    "\n",
    "# now build a DataFrame whose rows are topics and whose columns are 0,1,2… word-positions\n",
    "words_by_topic = pd.DataFrame(\n",
    "    topics_df['Representation'].tolist(),        # list‐of‐lists → 2D array\n",
    "    index = topics_df['Topic']                   # label each row by the topic number\n",
    ")\n",
    "\n",
    "# transpose so that *columns* are topics and *rows* are the word‐positions (1st word, 2nd word,…)\n",
    "wide = words_by_topic.T\n",
    "\n",
    "# optionally, rename the row‐index to something meaningful:\n",
    "wide.index = [f'word_{i+1}' for i in wide.index]\n",
    "\n",
    "# save to csv\n",
    "wide.to_csv(\"./Topics/topics_bert.csv\", sep=\";\", index=True, header=True)"
   ]
  },
  {
   "cell_type": "markdown",
   "metadata": {},
   "source": [
    "## LDA"
   ]
  },
  {
   "cell_type": "code",
   "execution_count": 107,
   "metadata": {},
   "outputs": [],
   "source": [
    "# LDA\n",
    "from sklearn.decomposition       import LatentDirichletAllocation\n",
    "\n",
    "cv_lda   = shared_vect\n",
    "\n",
    "lda  = LatentDirichletAllocation(\n",
    "    n_components=20,\n",
    "    random_state=42,\n",
    "    max_iter    = 10,\n",
    "    learning_method=\"batch\"\n",
    ")\n",
    "W_train_lda = cv_lda.fit_transform(X_train_texts)\n",
    "\n",
    "X_train_lda = lda.fit_transform(W_train_lda)\n",
    "X_test_lda  = lda.transform(cv_lda.transform(X_test_texts))\n"
   ]
  },
  {
   "cell_type": "code",
   "execution_count": 109,
   "metadata": {},
   "outputs": [],
   "source": [
    "feature_names = cv_lda.get_feature_names_out()\n",
    "n_top_words = 10    # change to however many words you want per topic\n",
    "\n",
    "rows = []\n",
    "for topic_idx, topic_weights in enumerate(lda.components_):\n",
    "    top_idxs = topic_weights.argsort()[::-1][:n_top_words]\n",
    "    top_words = [feature_names[i] for i in top_idxs]\n",
    "    rows.append({\n",
    "        \"Topic\": topic_idx,\n",
    "        \"Representation\": top_words\n",
    "    })\n",
    "\n",
    "df_topics = pd.DataFrame(rows)\n",
    "words_by_topic = pd.DataFrame(\n",
    "    df_topics['Representation'].tolist(),\n",
    "    index = df_topics['Topic']\n",
    ")\n",
    "\n",
    "# 3) transpose so columns are topics, rows are word position\n",
    "wide = words_by_topic.T\n",
    "\n",
    "# 4) optionally rename the row index to something like word_1, word_2, …\n",
    "wide.index = [f\"word_{i+1}\" for i in wide.index]\n",
    "\n",
    "wide.to_csv(\"./Topics/topics_lda.csv\", sep=\";\", index=True, header=True)\n",
    "\n"
   ]
  },
  {
   "cell_type": "markdown",
   "metadata": {},
   "source": [
    "## S3"
   ]
  },
  {
   "cell_type": "code",
   "execution_count": 110,
   "metadata": {},
   "outputs": [
    {
     "data": {
      "text/html": [
       "<pre style=\"white-space:pre;overflow-x:auto;line-height:normal;font-family:Menlo,'DejaVu Sans Mono',consolas,'Courier New',monospace\"><span style=\"color: #7fbfbf; text-decoration-color: #7fbfbf\">[12:30:03] </span>Documents encoded.                                                                         <a href=\"file:///Users/sofiascharf-matthiesen/miniconda3/envs/mlstack/lib/python3.10/site-packages/turftopic/models/decomp.py\" target=\"_blank\"><span style=\"color: #7f7f7f; text-decoration-color: #7f7f7f\">decomp.py</span></a><span style=\"color: #7f7f7f; text-decoration-color: #7f7f7f\">:</span><a href=\"file:///Users/sofiascharf-matthiesen/miniconda3/envs/mlstack/lib/python3.10/site-packages/turftopic/models/decomp.py#141\" target=\"_blank\"><span style=\"color: #7f7f7f; text-decoration-color: #7f7f7f\">141</span></a>\n",
       "</pre>\n"
      ],
      "text/plain": [
       "\u001b[2;36m[12:30:03]\u001b[0m\u001b[2;36m \u001b[0mDocuments encoded.                                                                         \u001b]8;id=577568;file:///Users/sofiascharf-matthiesen/miniconda3/envs/mlstack/lib/python3.10/site-packages/turftopic/models/decomp.py\u001b\\\u001b[2mdecomp.py\u001b[0m\u001b]8;;\u001b\\\u001b[2m:\u001b[0m\u001b]8;id=908453;file:///Users/sofiascharf-matthiesen/miniconda3/envs/mlstack/lib/python3.10/site-packages/turftopic/models/decomp.py#141\u001b\\\u001b[2m141\u001b[0m\u001b]8;;\u001b\\\n"
      ]
     },
     "metadata": {},
     "output_type": "display_data"
    },
    {
     "data": {
      "text/html": [
       "<pre style=\"white-space:pre;overflow-x:auto;line-height:normal;font-family:Menlo,'DejaVu Sans Mono',consolas,'Courier New',monospace\"><span style=\"color: #7fbfbf; text-decoration-color: #7fbfbf\">[12:30:04] </span>Decomposition done.                                                                        <a href=\"file:///Users/sofiascharf-matthiesen/miniconda3/envs/mlstack/lib/python3.10/site-packages/turftopic/models/decomp.py\" target=\"_blank\"><span style=\"color: #7f7f7f; text-decoration-color: #7f7f7f\">decomp.py</span></a><span style=\"color: #7f7f7f; text-decoration-color: #7f7f7f\">:</span><a href=\"file:///Users/sofiascharf-matthiesen/miniconda3/envs/mlstack/lib/python3.10/site-packages/turftopic/models/decomp.py#144\" target=\"_blank\"><span style=\"color: #7f7f7f; text-decoration-color: #7f7f7f\">144</span></a>\n",
       "</pre>\n"
      ],
      "text/plain": [
       "\u001b[2;36m[12:30:04]\u001b[0m\u001b[2;36m \u001b[0mDecomposition done.                                                                        \u001b]8;id=938303;file:///Users/sofiascharf-matthiesen/miniconda3/envs/mlstack/lib/python3.10/site-packages/turftopic/models/decomp.py\u001b\\\u001b[2mdecomp.py\u001b[0m\u001b]8;;\u001b\\\u001b[2m:\u001b[0m\u001b]8;id=879810;file:///Users/sofiascharf-matthiesen/miniconda3/envs/mlstack/lib/python3.10/site-packages/turftopic/models/decomp.py#144\u001b\\\u001b[2m144\u001b[0m\u001b]8;;\u001b\\\n"
      ]
     },
     "metadata": {},
     "output_type": "display_data"
    },
    {
     "data": {
      "text/html": [
       "<pre style=\"white-space:pre;overflow-x:auto;line-height:normal;font-family:Menlo,'DejaVu Sans Mono',consolas,'Courier New',monospace\"><span style=\"color: #7fbfbf; text-decoration-color: #7fbfbf\">           </span>Term extraction done.                                                                      <a href=\"file:///Users/sofiascharf-matthiesen/miniconda3/envs/mlstack/lib/python3.10/site-packages/turftopic/models/decomp.py\" target=\"_blank\"><span style=\"color: #7f7f7f; text-decoration-color: #7f7f7f\">decomp.py</span></a><span style=\"color: #7f7f7f; text-decoration-color: #7f7f7f\">:</span><a href=\"file:///Users/sofiascharf-matthiesen/miniconda3/envs/mlstack/lib/python3.10/site-packages/turftopic/models/decomp.py#147\" target=\"_blank\"><span style=\"color: #7f7f7f; text-decoration-color: #7f7f7f\">147</span></a>\n",
       "</pre>\n"
      ],
      "text/plain": [
       "\u001b[2;36m          \u001b[0m\u001b[2;36m \u001b[0mTerm extraction done.                                                                      \u001b]8;id=297765;file:///Users/sofiascharf-matthiesen/miniconda3/envs/mlstack/lib/python3.10/site-packages/turftopic/models/decomp.py\u001b\\\u001b[2mdecomp.py\u001b[0m\u001b]8;;\u001b\\\u001b[2m:\u001b[0m\u001b]8;id=261053;file:///Users/sofiascharf-matthiesen/miniconda3/envs/mlstack/lib/python3.10/site-packages/turftopic/models/decomp.py#147\u001b\\\u001b[2m147\u001b[0m\u001b]8;;\u001b\\\n"
      ]
     },
     "metadata": {},
     "output_type": "display_data"
    },
    {
     "data": {
      "text/html": [
       "<pre style=\"white-space:pre;overflow-x:auto;line-height:normal;font-family:Menlo,'DejaVu Sans Mono',consolas,'Courier New',monospace\"><span style=\"color: #7fbfbf; text-decoration-color: #7fbfbf\">[12:30:07] </span>Vocabulary encoded.                                                                        <a href=\"file:///Users/sofiascharf-matthiesen/miniconda3/envs/mlstack/lib/python3.10/site-packages/turftopic/models/decomp.py\" target=\"_blank\"><span style=\"color: #7f7f7f; text-decoration-color: #7f7f7f\">decomp.py</span></a><span style=\"color: #7f7f7f; text-decoration-color: #7f7f7f\">:</span><a href=\"file:///Users/sofiascharf-matthiesen/miniconda3/envs/mlstack/lib/python3.10/site-packages/turftopic/models/decomp.py#157\" target=\"_blank\"><span style=\"color: #7f7f7f; text-decoration-color: #7f7f7f\">157</span></a>\n",
       "</pre>\n"
      ],
      "text/plain": [
       "\u001b[2;36m[12:30:07]\u001b[0m\u001b[2;36m \u001b[0mVocabulary encoded.                                                                        \u001b]8;id=189503;file:///Users/sofiascharf-matthiesen/miniconda3/envs/mlstack/lib/python3.10/site-packages/turftopic/models/decomp.py\u001b\\\u001b[2mdecomp.py\u001b[0m\u001b]8;;\u001b\\\u001b[2m:\u001b[0m\u001b]8;id=864519;file:///Users/sofiascharf-matthiesen/miniconda3/envs/mlstack/lib/python3.10/site-packages/turftopic/models/decomp.py#157\u001b\\\u001b[2m157\u001b[0m\u001b]8;;\u001b\\\n"
      ]
     },
     "metadata": {},
     "output_type": "display_data"
    },
    {
     "data": {
      "text/html": [
       "<pre style=\"white-space:pre;overflow-x:auto;line-height:normal;font-family:Menlo,'DejaVu Sans Mono',consolas,'Courier New',monospace\"><span style=\"color: #7fbfbf; text-decoration-color: #7fbfbf\">           </span>Model fitting done.                                                                        <a href=\"file:///Users/sofiascharf-matthiesen/miniconda3/envs/mlstack/lib/python3.10/site-packages/turftopic/models/decomp.py\" target=\"_blank\"><span style=\"color: #7f7f7f; text-decoration-color: #7f7f7f\">decomp.py</span></a><span style=\"color: #7f7f7f; text-decoration-color: #7f7f7f\">:</span><a href=\"file:///Users/sofiascharf-matthiesen/miniconda3/envs/mlstack/lib/python3.10/site-packages/turftopic/models/decomp.py#170\" target=\"_blank\"><span style=\"color: #7f7f7f; text-decoration-color: #7f7f7f\">170</span></a>\n",
       "</pre>\n"
      ],
      "text/plain": [
       "\u001b[2;36m          \u001b[0m\u001b[2;36m \u001b[0mModel fitting done.                                                                        \u001b]8;id=267114;file:///Users/sofiascharf-matthiesen/miniconda3/envs/mlstack/lib/python3.10/site-packages/turftopic/models/decomp.py\u001b\\\u001b[2mdecomp.py\u001b[0m\u001b]8;;\u001b\\\u001b[2m:\u001b[0m\u001b]8;id=789395;file:///Users/sofiascharf-matthiesen/miniconda3/envs/mlstack/lib/python3.10/site-packages/turftopic/models/decomp.py#170\u001b\\\u001b[2m170\u001b[0m\u001b]8;;\u001b\\\n"
      ]
     },
     "metadata": {},
     "output_type": "display_data"
    },
    {
     "data": {
      "text/html": [
       "<pre style=\"white-space:pre;overflow-x:auto;line-height:normal;font-family:Menlo,'DejaVu Sans Mono',consolas,'Courier New',monospace\"></pre>\n"
      ],
      "text/plain": []
     },
     "metadata": {},
     "output_type": "display_data"
    }
   ],
   "source": [
    "from turftopic import SemanticSignalSeparation\n",
    "#from turftopic.vectorizers.spacy import NounPhraseCountVectorizer\n",
    "\n",
    "# KeyNMF (“S3”)\n",
    "model_s3  = SemanticSignalSeparation(\n",
    "    n_components=20,\n",
    "    encoder      = embedder,     # see below\n",
    "    vectorizer   = shared_vect,\n",
    "    random_state = 42\n",
    ")\n",
    "X_train_s3 = model_s3.fit_transform(X_train_texts)\n",
    "X_test_s3  = model_s3.transform(X_test_texts)"
   ]
  },
  {
   "cell_type": "code",
   "execution_count": 111,
   "metadata": {},
   "outputs": [],
   "source": [
    "# make output from model_s3.print_topics() into a dataframe\n",
    "topics_s3 = model_s3.get_topics()\n",
    "topics_s3_words = {}\n",
    "\n",
    "# make topics_s3_words into a dataframe\n",
    "df_s3 = pd.DataFrame(topics_s3)\n",
    "\n",
    "# create a new column ’words’ that contains only the words\n",
    "df_s3['words'] = df_s3[1].apply(lambda lst: [word for word, score in lst])\n",
    "\n",
    "# only include column 0 and 2 \n",
    "df_s3 = df_s3[[0, 'words']]\n",
    "\n",
    "top_words = {\n",
    "    f\"topic_{topic_id}\": words\n",
    "    for topic_id, words in zip(df_s3[0], df_s3['words'])\n",
    "}\n",
    "\n",
    "df_s3 = pd.DataFrame(top_words)\n",
    "\n",
    "# save to csv\n",
    "df_s3.to_csv(\"./Topics/topics_s3.csv\", sep=\";\", index=True, header=True)"
   ]
  },
  {
   "cell_type": "markdown",
   "metadata": {},
   "source": [
    "### Assigning feature names"
   ]
  },
  {
   "cell_type": "code",
   "execution_count": 112,
   "metadata": {},
   "outputs": [],
   "source": [
    "# BERTopic (topics_bert_ommer.csv; columns '-1', '0'…'18')\n",
    "features_bert = [\n",
    "    \"\",\n",
    "    \"Stopwords & Common Tokens\",           # -1: the, you, to, is, i…\n",
    "    \"Pronouns & Function Words\",           # 0: i, to, and, a, my…\n",
    "    \"Sleep & Rest\",                        # 1: sleep, bed, tired, nap…\n",
    "    \"Generic Discourse & Quotations\",      # 2: the, you, show, quot, sad…\n",
    "    \"Education & Schoolwork\",              # 3: work, homework, class, school…\n",
    "    \"Social Media & Mobile Tech\",          # 4: twitter, tweet, iphone, phone…\n",
    "    \"Websites & Uploads\",                  # 5: site, upload, website, com…\n",
    "    \"Transportation & Commute\",            # 6: bus, traffic, ticket, train…\n",
    "    \"Weather & Nature\",                    # 7: rain, cold, snow, sun, weather…\n",
    "    \"French Articles & Fragments\",         # 8: de, la, le, pression, d…\n",
    "    \"Pets & Animals\",                      # 9: dog, cat, puppy, vet…\n",
    "    \"Affection & Social Support\",          # 10: hug, talk, need, someone…\n",
    "    \"Calendars & Events\",                  # 11: birthday, monday, tuesday…\n",
    "    \"Fashion & Apparel\",                   # 12: wear, color, dress, orange…\n",
    "    \"Internet Slang & Fillers\",            # 13: amp, sadly, re, up, got…\n",
    "    \"Football Personalities\",              # 14: pogba, mourinho, paul…\n",
    "    \"Current Events (Italy/Earthquake)\",   # 15: italy, earthquake, news…\n",
    "    \"Socioeconomic & Mental Health\",       # 16: depression, inflation, great…\n",
    "    \"Questions & Gratitude\",               # 17: understand, how, thanks, t…\n",
    "    \"Books & Reading\",                     # 18: book, library, reading, read…\n",
    "]\n",
    "\n",
    "# LDA (topics_lda_ommer.csv; columns '0'…'19')\n",
    "features_lda = [\n",
    "    \"\",\n",
    "    \"Female References\",                   # 0: her, she, ...\n",
    "    \"Core Function Words\",                 # 1: it, a, the, s, on\n",
    "    \"Pronouns & Entities\",                 # 2: amp, i, my, it, the\n",
    "    \"First-Person Narration\",              # 3: i, to, the, up, m\n",
    "    \"Self-Focus\",                          # 4: i, and, my, a, to\n",
    "    \"Male References\",                     # 5: he, him, his, t, i\n",
    "    \"Negation & Depression\",               # 6: to, no, depression, and, my\n",
    "    \"Generic Pronouns A\",                  # 7: i, to, t, my, and\n",
    "    \"Generic Pronouns B\",                  # 8: i, a, and, to, the\n",
    "    \"Contractions & Negation\",             # 9: im, dont, cant, me, ...\n",
    "    \"Depression Keywords\",                 # 10: depression, the, you, your…\n",
    "    \"Generic Pronouns C\",                  # 11: i, to, and, it, t\n",
    "    \"Generic Pronouns D\",                  # 12: i, to, and, the, my\n",
    "    \"Quotes & French Terms\",               # 13: d, quot, de, le, la\n",
    "    \"Depression & Anxiety\",                # 14: depression, anxiety, break…\n",
    "    \"Function Word Cluster\",               # 15: a, to, and, of, i\n",
    "    \"Physical Symptoms\",                   # 16: cold, feeling, headache, symptom…\n",
    "    \"Function Words E\",                    # 17: the, is, my, in, a\n",
    "    \"Generic Pronouns E\",                  # 18: i, and, to, a, me\n",
    "    \"Second-Person Address\",               # 19: you, to, the, a, is\n",
    "]\n",
    "\n",
    "# S3 (topics_s3_fair.csv; columns 'topic_0'…'topic_19')\n",
    "features_s3 = [\n",
    "    \"\",\n",
    "    \"Assault & Violence\",                  # topic_0: molested, assault, violated…\n",
    "    \"Mental Health Conditions\",            # topic_1: aspergers, mentalhealth, madness…\n",
    "    \"Loneliness & Mood\",                   # topic_2: unloved, lonesome, pleasant…\n",
    "    \"Abuse & Therapy\",                     # topic_3: abuser, abused, therapy, abuse…\n",
    "    \"Adverbs & Modifiers\",                 # topic_4: agonising, mundane, slightly…\n",
    "    \"Curiosity & Frequency\",               # topic_5: curious, often, wondering…\n",
    "    \"Family & Parenting\",                  # topic_6: parenting, mum, mother…\n",
    "    \"Anxiety & Fear\",                      # topic_7: anxiety, panic, terrified…\n",
    "    \"Gender & Appearance\",                 # topic_8: woman, gorgeous, female…\n",
    "    \"Media & Downloads\",                   # topic_9: itunes, download, youtube…\n",
    "    \"Sleep & Rest\",                        # topic_10: sleep, asleep, nap, bedtime…\n",
    "    \"Entertainment & Celebrities\",         # topic_11: cast, nicolerichie, episode…\n",
    "    \"Psychiatric Medications\",             # topic_12: hydroxyzine, prescribed, dosage…\n",
    "    \"Depression & Mood Disorders\",         # topic_13: depression, depressive, antidepressant…\n",
    "    \"Socializing & Introversion\",          # topic_14: introverted, socializing, hangout…\n",
    "    \"Satisfaction & Workplace\",            # topic_15: noticeable, happy, satisfied…\n",
    "    \"Healthcare & Assistance\",             # topic_16: assistance, contact, hospitalized…\n",
    "    \"Social Media Platforms\",              # topic_17: twitter, tweetdeck, facebook…\n",
    "    \"Physical Illness & Symptoms\",         # topic_18: swollen, vomiting, throat…\n",
    "    \"French Language & Stopwords\",         # topic_19: une, und, pas, dans, un\n",
    "]\n"
   ]
  },
  {
   "cell_type": "code",
   "execution_count": 120,
   "metadata": {},
   "outputs": [],
   "source": [
    "# load csvs\n",
    "df_s3 = pd.read_csv(\"./Topics/topics_s3.csv\", sep=\";\")\n",
    "df_lda = pd.read_csv(\"./Topics/topics_lda.csv\", sep=\";\")\n",
    "df_bert = pd.read_csv(\"./Topics/topics_bert.csv\", sep=\";\")\n",
    "\n",
    "#name each column in the topics csvs the feature name and overwrite\n",
    "df_s3.columns = features_s3\n",
    "df_lda.columns = features_lda\n",
    "df_bert.columns = features_bert\n",
    "\n",
    "# save to csv\n",
    "df_s3.to_csv(\"./Topics/topics_s3.csv\", sep=\";\", index=False, header=True)\n",
    "df_lda.to_csv(\"./Topics/topics_lda.csv\", sep=\";\", index=False, header=True)\n",
    "df_bert.to_csv(\"./Topics/topics_bert.csv\", sep=\";\", index=False, header=True)\n"
   ]
  },
  {
   "cell_type": "markdown",
   "metadata": {},
   "source": [
    "# Test Classifier on diff Top Mod Approaches"
   ]
  },
  {
   "cell_type": "code",
   "execution_count": 121,
   "metadata": {},
   "outputs": [],
   "source": [
    "feature_sets = {\n",
    "    #\"TF-IDF\":    (X_train_tfidf, X_test_tfidf),\n",
    "    #\"LIWC\":       (X_train_liwc,  X_test_liwc),\n",
    "    \"LDA\":      (X_train_lda,  X_test_lda, features_lda[1:]),\n",
    "    \"BERTopic\":   (X_train_bert,  X_test_bert, features_bert[1:]),\n",
    "    #\"RoBERTa-NMF\":(X_train_nmf,   X_test_nmf),\n",
    "    \"S3\":         (X_train_s3,    X_test_s3, features_s3[1:]),\n",
    "}"
   ]
  },
  {
   "cell_type": "markdown",
   "metadata": {},
   "source": [
    "## RF"
   ]
  },
  {
   "cell_type": "code",
   "execution_count": 122,
   "metadata": {},
   "outputs": [
    {
     "name": "stdout",
     "output_type": "stream",
     "text": [
      "\n",
      "→ LDA     Train=(6184, 20)  Test=(1547, 20)\n"
     ]
    },
    {
     "name": "stderr",
     "output_type": "stream",
     "text": [
      "huggingface/tokenizers: The current process just got forked, after parallelism has already been used. Disabling parallelism to avoid deadlocks...\n",
      "huggingface/tokenizers: The current process just got forked, after parallelism has already been used. Disabling parallelism to avoid deadlocks...\n",
      "huggingface/tokenizers: The current process just got forked, after parallelism has already been used. Disabling parallelism to avoid deadlocks...\n",
      "huggingface/tokenizers: The current process just got forked, after parallelism has already been used. Disabling parallelism to avoid deadlocks...\n",
      "huggingface/tokenizers: The current process just got forked, after parallelism has already been used. Disabling parallelism to avoid deadlocks...\n",
      "To disable this warning, you can either:\n",
      "To disable this warning, you can either:\n",
      "\t- Avoid using `tokenizers` before the fork if possible\n",
      "\t- Explicitly set the environment variable \t- Avoid using `tokenizers` before the fork if possible\n",
      "\t- Explicitly set the environment variable huggingface/tokenizers: The current process just got forked, after parallelism has already been used. Disabling parallelism to avoid deadlocks...\n",
      "huggingface/tokenizers: The current process just got forked, after parallelism has already been used. Disabling parallelism to avoid deadlocks...\n",
      "To disable this warning, you can either:\n",
      "\t- Avoid using `tokenizers` before the fork if possible\n",
      "\t- Explicitly set the environment variable huggingface/tokenizers: The current process just got forked, after parallelism has already been used. Disabling parallelism to avoid deadlocks...\n",
      "To disable this warning, you can either:\n",
      "To disable this warning, you can either:\n",
      "To disable this warning, you can either:\n",
      "\t- Avoid using `tokenizers` before the fork if possible\n",
      "\t- Explicitly set the environment variable \t- Avoid using `tokenizers` before the fork if possible\n",
      "\t- Explicitly set the environment variable To disable this warning, you can either:\n",
      "\t- Avoid using `tokenizers` before the fork if possible\n",
      "\t- Explicitly set the environment variable To disable this warning, you can either:\n",
      "\t- Avoid using `tokenizers` before the fork if possible\n",
      "\t- Explicitly set the environment variable TOKENIZERS_PARALLELISM=(true | false)\n",
      "TOKENIZERS_PARALLELISM=(true | false)\n",
      "TOKENIZERS_PARALLELISM=(true | false)\n",
      "TOKENIZERS_PARALLELISM=(true | false)\n",
      "TOKENIZERS_PARALLELISM=(true | false)\n",
      "\t- Avoid using `tokenizers` before the fork if possible\n",
      "\t- Explicitly set the environment variable TOKENIZERS_PARALLELISM=(true | false)\n",
      "TOKENIZERS_PARALLELISM=(true | false)\n",
      "TOKENIZERS_PARALLELISM=(true | false)\n"
     ]
    },
    {
     "name": "stdout",
     "output_type": "stream",
     "text": [
      "  CV F1: 0.880 ± 0.008\n",
      "  OOS  F1: 0.889   Acc: 0.895   Prec: 0.940   Rec: 0.842\n",
      "  Top 5 importances:\n",
      "               feature  importance  std_error\n",
      "First-Person Narration      0.0120     0.0040\n",
      "  Depression & Anxiety      0.0112     0.0021\n",
      "   Depression Keywords      0.0081     0.0027\n",
      " Quotes & French Terms      0.0043     0.0018\n",
      "    Generic Pronouns C      0.0037     0.0020\n",
      "\n",
      "→ BERTopic  Train=(6184, 20)  Test=(1547, 20)\n",
      "  CV F1: 0.933 ± 0.007\n",
      "  OOS  F1: 0.908   Acc: 0.913   Prec: 0.963   Rec: 0.858\n",
      "  Top 5 importances:\n",
      "                      feature  importance  std_error\n",
      "    Pronouns & Function Words      0.4063     0.0061\n",
      "  French Articles & Fragments      0.0088     0.0006\n",
      "    Stopwords & Common Tokens      0.0052     0.0007\n",
      "Socioeconomic & Mental Health      0.0015     0.0004\n",
      "       Football Personalities      0.0013     0.0000\n",
      "\n",
      "→ S3      Train=(6184, 20)  Test=(1547, 20)\n",
      "  CV F1: 0.941 ± 0.004\n",
      "  OOS  F1: 0.946   Acc: 0.947   Prec: 0.954   Rec: 0.939\n",
      "  Top 5 importances:\n",
      "                    feature  importance  std_error\n",
      "Depression & Mood Disorders      0.1309     0.0059\n",
      "             Anxiety & Fear      0.0840     0.0083\n",
      "      Curiosity & Frequency      0.0819     0.0037\n",
      "   Satisfaction & Workplace      0.0633     0.0040\n",
      "Entertainment & Celebrities      0.0355     0.0046\n",
      "\n",
      "=== Summary ===\n",
      "          CV F1  CV std  OOS F1  Accuracy  Precision  Recall\n",
      "Method                                                      \n",
      "LDA       0.880   0.008   0.889     0.895      0.940   0.842\n",
      "BERTopic  0.933   0.007   0.908     0.913      0.963   0.858\n",
      "S3        0.941   0.004   0.946     0.947      0.954   0.939\n"
     ]
    }
   ],
   "source": [
    "from sklearn.ensemble       import RandomForestClassifier\n",
    "from sklearn.metrics        import f1_score, precision_score, recall_score, accuracy_score\n",
    "from sklearn.inspection     import permutation_importance\n",
    "from sklearn.model_selection import cross_val_score, StratifiedKFold\n",
    "import pandas as pd\n",
    "import numpy as np\n",
    "\n",
    "results              = {}\n",
    "best_models          = {}\n",
    "feature_importances  = {}\n",
    "\n",
    "# define your CV splitter once\n",
    "cv = StratifiedKFold(n_splits=5, shuffle=True, random_state=42)\n",
    "\n",
    "for name, (X_tr, X_te, feat) in feature_sets.items():\n",
    "    print(f\"\\n→ {name:6s}  Train={X_tr.shape}  Test={X_te.shape}\")\n",
    "\n",
    "    # 0) quick CV on the training set\n",
    "    rf = RandomForestClassifier(\n",
    "        class_weight    = \"balanced\",\n",
    "        random_state    = 42,\n",
    "        n_jobs          = -1\n",
    "    )\n",
    "    cv_scores = cross_val_score(rf, X_tr, y_train,\n",
    "                                cv=cv,\n",
    "                                scoring='f1',\n",
    "                                n_jobs=-1)\n",
    "    print(f\"  CV F1: {cv_scores.mean():.3f} ± {cv_scores.std():.3f}\")\n",
    "\n",
    "    # 1) fit on full training data\n",
    "    rf.fit(X_tr, y_train)\n",
    "\n",
    "    # 2) evaluate on hold-out\n",
    "    y_pred  = rf.predict(X_te)\n",
    "    oos_f1  = f1_score(y_test, y_pred)\n",
    "    oos_acc = accuracy_score(y_test, y_pred)\n",
    "    oos_prec= precision_score(y_test, y_pred, zero_division=0)\n",
    "    oos_rec = recall_score(y_test, y_pred, zero_division=0)\n",
    "    print(f\"  OOS  F1: {oos_f1:.3f}   Acc: {oos_acc:.3f}   Prec: {oos_prec:.3f}   Rec: {oos_rec:.3f}\")\n",
    "\n",
    "    # 3) permutation importances\n",
    "    perm = permutation_importance(rf, X_te, y_test, n_repeats=10, random_state=42)\n",
    "    imp_df = (\n",
    "        pd.DataFrame({\n",
    "            \"feature\":    feat,\n",
    "            \"importance\": perm.importances_mean,\n",
    "            \"std_error\":  perm.importances_std\n",
    "        })\n",
    "        .sort_values(\"importance\", ascending=False)\n",
    "        .head(5)\n",
    "        .reset_index(drop=True)\n",
    "    )\n",
    "    print(\"  Top 5 importances:\")\n",
    "    print(imp_df.to_string(index=False, float_format=\"%.4f\"))\n",
    "\n",
    "    # 4) record everything\n",
    "    results[name]                = {\n",
    "        \"CV F1\":      cv_scores.mean(),\n",
    "        \"CV std\":     cv_scores.std(),\n",
    "        \"OOS F1\":     oos_f1,\n",
    "        \"Accuracy\":   oos_acc,\n",
    "        \"Precision\":  oos_prec,\n",
    "        \"Recall\":     oos_rec,\n",
    "    }\n",
    "    best_models[name]            = rf\n",
    "    feature_importances[name]    = imp_df\n",
    "\n",
    "# Summarize\n",
    "summary = (\n",
    "    pd.DataFrame.from_dict(results, orient=\"index\")\n",
    "      .rename_axis(\"Method\")\n",
    ")\n",
    "print(\"\\n=== Summary ===\")\n",
    "print(summary.to_string(float_format=\"%.3f\"))\n"
   ]
  },
  {
   "cell_type": "markdown",
   "metadata": {},
   "source": [
    "### Feature Importance Dataframe"
   ]
  },
  {
   "cell_type": "code",
   "execution_count": 123,
   "metadata": {},
   "outputs": [
    {
     "name": "stdout",
     "output_type": "stream",
     "text": [
      "\n",
      "→ LDA\n",
      "  Test shape: (1547, 20)\n",
      "  → saved feature importances to feature_importances/feature_importances_LDA.csv\n",
      "\n",
      "→ BERTopic\n",
      "  Test shape: (1547, 20)\n",
      "  → saved feature importances to feature_importances/feature_importances_BERTopic.csv\n",
      "\n",
      "→ S3\n",
      "  Test shape: (1547, 20)\n",
      "  → saved feature importances to feature_importances/feature_importances_S3.csv\n"
     ]
    }
   ],
   "source": [
    "import os\n",
    "import pandas as pd\n",
    "from sklearn.inspection import permutation_importance\n",
    "\n",
    "# assume feature_sets, y_test, best_models all exist\n",
    "os.makedirs(\"feature_importances\", exist_ok=True)\n",
    "\n",
    "for name, (_, X_te, feat) in feature_sets.items():\n",
    "    print(f\"\\n→ {name}\")\n",
    "    print(f\"  Test shape: {X_te.shape}\")\n",
    "\n",
    "    # pull in the fitted RF model\n",
    "    rf = best_models[name]\n",
    "\n",
    "    # compute permutation importances for the RF\n",
    "    perm = permutation_importance(\n",
    "        rf, X_te, y_test,\n",
    "        n_repeats=10,\n",
    "        random_state=42,\n",
    "        n_jobs=-1\n",
    "    )\n",
    "    df_imp = (\n",
    "        pd.DataFrame({\n",
    "            \"feature\":    feat,\n",
    "            \"importance\": perm.importances_mean,\n",
    "            \"std_error\":  perm.importances_std\n",
    "        })\n",
    "        .sort_values(\"importance\", ascending=False)\n",
    "        .reset_index(drop=True)\n",
    "    )\n",
    "\n",
    "    # save to CSV\n",
    "    out_path = os.path.join(\n",
    "        \"feature_importances/Dep/\",\n",
    "        f\"feature_importances_{name}.csv\"\n",
    "    )\n",
    "    df_imp.to_csv(out_path, index=False)\n",
    "    print(f\"  → saved feature importances to {out_path}\")\n"
   ]
  },
  {
   "cell_type": "markdown",
   "metadata": {},
   "source": [
    "## Correlation Matrices"
   ]
  },
  {
   "cell_type": "code",
   "execution_count": 124,
   "metadata": {},
   "outputs": [
    {
     "name": "stdout",
     "output_type": "stream",
     "text": [
      "→ saved correlation heatmap for LDA to correlation_plots/corr_LDA.png\n",
      "→ saved correlation heatmap for BERTopic to correlation_plots/corr_BERTopic.png\n",
      "→ saved correlation heatmap for S3 to correlation_plots/corr_S3.png\n"
     ]
    }
   ],
   "source": [
    "import os\n",
    "import pandas as pd\n",
    "import matplotlib.pyplot as plt\n",
    "\n",
    "# where to dump your plots\n",
    "os.makedirs(\"correlation_plots\", exist_ok=True)\n",
    "\n",
    "for name, (X_tr, X_te, feat) in feature_sets.items():\n",
    "    # build DataFrame (here I’m using the train‐split; swap in X_te if you prefer)\n",
    "    df = pd.DataFrame(X_tr, columns=feat)\n",
    "\n",
    "    # compute correlation matrix\n",
    "    corr = df.corr()\n",
    "\n",
    "    # plot\n",
    "    fig, ax = plt.subplots(figsize=(10, 8))\n",
    "    im = ax.imshow(corr, vmin=-1, vmax=1, cmap=\"RdBu_r\")\n",
    "    ax.set_xticks(range(len(feat)))\n",
    "    ax.set_yticks(range(len(feat)))\n",
    "    ax.set_xticklabels(feat, rotation=90)\n",
    "    ax.set_yticklabels(feat)\n",
    "    ax.set_title(f\"Feature Correlation: {name}\")\n",
    "    fig.colorbar(im, ax=ax, fraction=0.046, pad=0.04)\n",
    "\n",
    "    # tidy layout & save\n",
    "    plt.tight_layout()\n",
    "    out_path = os.path.join(\"correlation_plots\", f\"corr_{name}.png\")\n",
    "    plt.savefig(out_path, dpi=150)\n",
    "    plt.close(fig)\n",
    "\n",
    "    print(f\"→ saved correlation heatmap for {name} to {out_path}\")\n"
   ]
  },
  {
   "cell_type": "markdown",
   "metadata": {},
   "source": [
    "## Confusion Matrices"
   ]
  },
  {
   "cell_type": "code",
   "execution_count": 125,
   "metadata": {},
   "outputs": [
    {
     "data": {
      "image/png": "[encoded data removed]",
      "text/plain": [
       "<Figure size 800x600 with 1 Axes>"
      ]
     },
     "metadata": {},
     "output_type": "display_data"
    }
   ],
   "source": [
    "# ── 1) Combined ROC/AUC Curves ────────────────────────────────────────────────\n",
    "\n",
    "import matplotlib.pyplot as plt\n",
    "from sklearn.metrics import roc_curve, roc_auc_score\n",
    "\n",
    "plt.figure(figsize=(8,6))\n",
    "\n",
    "for name, model in best_models.items():\n",
    "    X_te = feature_sets[name][1]\n",
    "    # get positive‐class probabilities\n",
    "    probs = model.predict_proba(X_te)[:, 1]\n",
    "    fpr, tpr, _ = roc_curve(y_test, probs)\n",
    "    auc = roc_auc_score(y_test, probs)\n",
    "    plt.plot(fpr, tpr, lw=2, label=f\"{name} (AUC = {auc:.3f})\")\n",
    "\n",
    "# Plot 45° line for reference\n",
    "plt.plot([0,1], [0,1], 'k--', lw=1)\n",
    "plt.xlabel(\"False Positive Rate\")\n",
    "plt.ylabel(\"True Positive Rate\")\n",
    "plt.title(\"ROC Curves for Best Models by Feature Set\")\n",
    "plt.legend(loc=\"lower right\")\n",
    "plt.grid(alpha=0.3)\n",
    "plt.show()\n"
   ]
  },
  {
   "cell_type": "code",
   "execution_count": 126,
   "metadata": {},
   "outputs": [
    {
     "data": {
      "image/png": "[encoded data removed]",
      "text/plain": [
       "<Figure size 400x400 with 1 Axes>"
      ]
     },
     "metadata": {},
     "output_type": "display_data"
    },
    {
     "data": {
      "image/png": "[encoded data removed]",
      "text/plain": [
       "<Figure size 400x400 with 1 Axes>"
      ]
     },
     "metadata": {},
     "output_type": "display_data"
    },
    {
     "data": {
      "image/png": "[encoded data removed]",
      "text/plain": [
       "<Figure size 400x400 with 1 Axes>"
      ]
     },
     "metadata": {},
     "output_type": "display_data"
    }
   ],
   "source": [
    "import matplotlib.pyplot as plt\n",
    "from sklearn.metrics import confusion_matrix, ConfusionMatrixDisplay\n",
    "import seaborn as sns\n",
    "\n",
    "label_names = {0: \"Control\", 1: \"Depression\"}\n",
    "sns.set_style('white')  # or 'ticks'\n",
    "\n",
    "\n",
    "for name, model in best_models.items():\n",
    "    X_te   = feature_sets[name][1]\n",
    "    y_pred = model.predict(X_te)\n",
    "\n",
    "    # Build CM with true-rows = [1,0], predicted-cols = [1,0]\n",
    "    cm = confusion_matrix(y_test, y_pred, labels=[0, 1])\n",
    "\n",
    "    # Use display_labels in the same order [1,0]\n",
    "    disp = ConfusionMatrixDisplay(\n",
    "        confusion_matrix=cm,\n",
    "        display_labels=[label_names[0], label_names[1]]  # [\"Depression\",\"Control\"]\n",
    "    )\n",
    "    fig, ax = plt.subplots(figsize=(4,4))\n",
    "    disp.plot(ax=ax, cmap=\"Blues\", colorbar=False)\n",
    "\n",
    "    # Now set x-axis to [0,1] → [\"Control\",\"Depression\"]\n",
    "    ax.set_xticks([0, 1])\n",
    "    ax.set_xticklabels([label_names[0], label_names[1]])\n",
    "    # And y-axis to [1,0] → [\"Depression\",\"Control\"]\n",
    "    ax.set_yticks([0, 1])\n",
    "    ax.set_yticklabels([label_names[0], label_names[1]])\n",
    "\n",
    "    ax.set_xlabel(\"Predicted label\")\n",
    "    ax.set_ylabel(\"True label\")\n",
    "    ax.set_title(f\"{name} Confusion Matrix\")\n",
    "    plt.show()\n"
   ]
  },
  {
   "cell_type": "markdown",
   "metadata": {},
   "source": [
    "# Diversity Scores & Similarity Scores"
   ]
  },
  {
   "cell_type": "code",
   "execution_count": 141,
   "metadata": {},
   "outputs": [],
   "source": [
    "# load csvs\n",
    "df_lda = pd.read_csv('./Topics/topics_lda.csv', sep=\";\")\n",
    "df_bert = pd.read_csv('./Topics/topics_bert.csv', sep=\";\")\n",
    "df_s3 = pd.read_csv('./Topics/topics_s3.csv', sep=\";\") "
   ]
  },
  {
   "cell_type": "code",
   "execution_count": 142,
   "metadata": {},
   "outputs": [
    {
     "name": "stdout",
     "output_type": "stream",
     "text": [
      "Mean Jaccard similarity:     0.0005\n",
      "Diversity (1 − mean Jaccard): 0.9995\n",
      "Diversity (unique ratio):     0.9905\n"
     ]
    }
   ],
   "source": [
    "import numpy as np\n",
    "import itertools\n",
    "\n",
    "# assume df_s3 is your DataFrame of shape (K, n_topics)\n",
    "# each column is a list of the top-K words for that topic\n",
    "topic_sets = [set(df_s3[col]) for col in df_s3.columns]\n",
    "n_topics = len(topic_sets)\n",
    "\n",
    "# 1) mean pairwise Jaccard similarity\n",
    "jaccard_scores = []\n",
    "for A, B in itertools.combinations(topic_sets, 2):\n",
    "    j = len(A & B) / len(A | B)\n",
    "    jaccard_scores.append(j)\n",
    "mean_similarity = np.mean(jaccard_scores)\n",
    "\n",
    "# 2a) topic‑diversity as 1 - mean_jaccard\n",
    "diversity_jaccard = 1 - mean_similarity\n",
    "\n",
    "# 2b) alternative “unique‑ratio” diversity: \n",
    "#    total unique words across all topics divided by (n_topics*K)\n",
    "all_words = set().union(*topic_sets)\n",
    "K = df_s3.shape[0]\n",
    "diversity_unique_ratio = len(all_words) / (n_topics * K)\n",
    "\n",
    "print(f\"Mean Jaccard similarity:     {mean_similarity:.4f}\")\n",
    "print(f\"Diversity (1 − mean Jaccard): {diversity_jaccard:.4f}\")\n",
    "print(f\"Diversity (unique ratio):     {diversity_unique_ratio:.4f}\")\n"
   ]
  },
  {
   "cell_type": "code",
   "execution_count": 145,
   "metadata": {},
   "outputs": [
    {
     "name": "stdout",
     "output_type": "stream",
     "text": [
      "Mean Jaccard similarity:     0.1821\n",
      "Diversity (1 − mean Jaccard): 0.8179\n",
      "Diversity (unique ratio):     0.4095\n"
     ]
    }
   ],
   "source": [
    "import numpy as np\n",
    "import itertools\n",
    "\n",
    "# assume df_s3 is your DataFrame of shape (K, n_topics)\n",
    "# each column is a list of the top-K words for that topic\n",
    "topic_sets = [set(df_lda[col]) for col in df_lda.columns]\n",
    "n_topics = len(topic_sets)\n",
    "\n",
    "# 1) mean pairwise Jaccard similarity\n",
    "jaccard_scores = []\n",
    "for A, B in itertools.combinations(topic_sets, 2):\n",
    "    j = len(A & B) / len(A | B)\n",
    "    jaccard_scores.append(j)\n",
    "mean_similarity = np.mean(jaccard_scores)\n",
    "\n",
    "# 2a) topic‑diversity as 1 - mean_jaccard\n",
    "diversity_jaccard = 1 - mean_similarity\n",
    "\n",
    "# 2b) alternative “unique‑ratio” diversity: \n",
    "#    total unique words across all topics divided by (n_topics*K)\n",
    "all_words = set().union(*topic_sets)\n",
    "K = df_s3.shape[0]\n",
    "diversity_unique_ratio = len(all_words) / (n_topics * K)\n",
    "\n",
    "print(f\"Mean Jaccard similarity:     {mean_similarity:.4f}\")\n",
    "print(f\"Diversity (1 − mean Jaccard): {diversity_jaccard:.4f}\")\n",
    "print(f\"Diversity (unique ratio):     {diversity_unique_ratio:.4f}\")\n"
   ]
  },
  {
   "cell_type": "code",
   "execution_count": 143,
   "metadata": {},
   "outputs": [
    {
     "name": "stdout",
     "output_type": "stream",
     "text": [
      "Mean Jaccard similarity:     0.0569\n",
      "Diversity (1 − mean Jaccard): 0.9431\n",
      "Diversity (unique ratio):     0.7095\n"
     ]
    }
   ],
   "source": [
    "import numpy as np\n",
    "import itertools\n",
    "\n",
    "# assume df_s3 is your DataFrame of shape (K, n_topics)\n",
    "# each column is a list of the top-K words for that topic\n",
    "topic_sets = [set(df_bert[col]) for col in df_bert.columns]\n",
    "n_topics = len(topic_sets)\n",
    "\n",
    "# 1) mean pairwise Jaccard similarity\n",
    "jaccard_scores = []\n",
    "for A, B in itertools.combinations(topic_sets, 2):\n",
    "    j = len(A & B) / len(A | B)\n",
    "    jaccard_scores.append(j)\n",
    "mean_similarity = np.mean(jaccard_scores)\n",
    "\n",
    "# 2a) topic‑diversity as 1 - mean_jaccard\n",
    "diversity_jaccard = 1 - mean_similarity\n",
    "\n",
    "# 2b) alternative “unique‑ratio” diversity: \n",
    "#    total unique words across all topics divided by (n_topics*K)\n",
    "all_words = set().union(*topic_sets)\n",
    "K = df_s3.shape[0]\n",
    "diversity_unique_ratio = len(all_words) / (n_topics * K)\n",
    "\n",
    "print(f\"Mean Jaccard similarity:     {mean_similarity:.4f}\")\n",
    "print(f\"Diversity (1 − mean Jaccard): {diversity_jaccard:.4f}\")\n",
    "print(f\"Diversity (unique ratio):     {diversity_unique_ratio:.4f}\")\n"
   ]
  },
  {
   "cell_type": "markdown",
   "metadata": {},
   "source": [
    "# Embedding Coherence"
   ]
  },
  {
   "cell_type": "code",
   "execution_count": 146,
   "metadata": {},
   "outputs": [],
   "source": [
    "import numpy as np\n",
    "import pandas as pd\n",
    "from itertools import combinations\n",
    "from sklearn.metrics.pairwise import cosine_similarity\n",
    "\n",
    "# Attempt to import sentence-transformers\n",
    "try:\n",
    "    from sentence_transformers import SentenceTransformer\n",
    "except ImportError:\n",
    "    raise ImportError(\"The sentence-transformers package is required. Install with: pip install sentence-transformers\")\n",
    "\n",
    "def compute_embedding_coherence(df_wide, model_name=\"all-MiniLM-L6-v2\"):\n",
    "    \"\"\"\n",
    "    Given a wide-format DataFrame where each column is a list of top-K words for a topic,\n",
    "    computes both internal and external coherence per topic using word embeddings.\n",
    "\n",
    "    Returns a DataFrame with columns:\n",
    "      - topic\n",
    "      - internal_coherence (mean pairwise cosine similarity within topic words)\n",
    "      - external_coherence (mean cosine similarity between topic words and all other words)\n",
    "    \"\"\"\n",
    "    # 1) Load the embedding model\n",
    "    model = SentenceTransformer(model_name)\n",
    "\n",
    "    # 2) Build a list of all unique words across topics, ignoring non-strings\n",
    "    unique_words = set()\n",
    "    for topic in df_wide.columns:\n",
    "        for w in df_wide[topic]:\n",
    "            if isinstance(w, str):\n",
    "                unique_words.add(w)\n",
    "    all_words = sorted(unique_words)\n",
    "\n",
    "    # 3) Compute embeddings for each unique word\n",
    "    embeddings = model.encode(all_words, convert_to_numpy=True)\n",
    "    emb_map = dict(zip(all_words, embeddings))\n",
    "\n",
    "    # 4) Compute coherence metrics for each topic\n",
    "    records = []\n",
    "    for topic in df_wide.columns:\n",
    "        # Filter out any non-strings in this topic's word list\n",
    "        words = [w for w in df_wide[topic] if isinstance(w, str)]\n",
    "        if not words:\n",
    "            # Skip topics with no valid words\n",
    "            records.append({\n",
    "                \"topic\": topic,\n",
    "                \"internal_coherence\": np.nan,\n",
    "                \"external_coherence\": np.nan\n",
    "            })\n",
    "            continue\n",
    "\n",
    "        word_embs = np.stack([emb_map[w] for w in words])\n",
    "\n",
    "        # Internal coherence: average pairwise cosine similarity among topic words\n",
    "        pair_sims = [\n",
    "            cosine_similarity(word_embs[i:i+1], word_embs[j:j+1])[0, 0]\n",
    "            for i, j in combinations(range(len(words)), 2)\n",
    "        ]\n",
    "        internal = np.mean(pair_sims) if pair_sims else np.nan\n",
    "\n",
    "        # External coherence: similarity between topic words and all other words\n",
    "        other_embs = np.stack(\n",
    "            [emb for w, emb in emb_map.items() if w not in words]\n",
    "        )\n",
    "        ext_sims = cosine_similarity(word_embs, other_embs).flatten()\n",
    "        external = np.mean(ext_sims) if ext_sims.size else np.nan\n",
    "\n",
    "        records.append({\n",
    "            \"topic\": topic,\n",
    "            \"internal_coherence\": internal,\n",
    "            \"external_coherence\": external\n",
    "        })\n",
    "\n",
    "    return pd.DataFrame(records)\n",
    "\n",
    "# Example usage:\n",
    "# df_wide = pd.DataFrame({ 'topic_0': [...], 'topic_1': [...], ... })\n",
    "# coherence_df = compute_embedding_coherence(df_wide)\n",
    "# print(coherence_df)\n"
   ]
  },
  {
   "cell_type": "code",
   "execution_count": 147,
   "metadata": {},
   "outputs": [],
   "source": [
    "coh_b = compute_embedding_coherence(df_bert)\n",
    "coh_l = compute_embedding_coherence(df_lda)\n",
    "coh_s = compute_embedding_coherence(df_s3)"
   ]
  },
  {
   "cell_type": "code",
   "execution_count": 148,
   "metadata": {},
   "outputs": [
    {
     "name": "stdout",
     "output_type": "stream",
     "text": [
      "LDA:\n",
      "  Internal Coherence: 0.411 ± 0.093\n",
      "  External Coherence: 0.320 ± 0.025\n",
      "BERTopic:\n",
      "  Internal Coherence: 0.381 ± 0.107\n",
      "  External Coherence: 0.273 ± 0.019\n",
      "S3:\n",
      "  Internal Coherence: 0.430 ± 0.105\n",
      "  External Coherence: 0.222 ± 0.021\n"
     ]
    }
   ],
   "source": [
    "print(\"LDA:\")\n",
    "print(f\"  Internal Coherence: {coh_l['internal_coherence'].mean():.3f} ± {coh_l['internal_coherence'].std():.3f}\")\n",
    "print(f\"  External Coherence: {coh_l['external_coherence'].mean():.3f} ± {coh_l['external_coherence'].std():.3f}\")\n",
    "# print mean and std of internal and external coherence for each model\n",
    "print(\"BERTopic:\")\n",
    "print(f\"  Internal Coherence: {coh_b['internal_coherence'].mean():.3f} ± {coh_b['internal_coherence'].std():.3f}\")  \n",
    "print(f\"  External Coherence: {coh_b['external_coherence'].mean():.3f} ± {coh_b['external_coherence'].std():.3f}\")\n",
    "\n",
    "print(\"S3:\")\n",
    "print(f\"  Internal Coherence: {coh_s['internal_coherence'].mean():.3f} ± {coh_s['internal_coherence'].std():.3f}\")\n",
    "print(f\"  External Coherence: {coh_s['external_coherence'].mean():.3f} ± {coh_s['external_coherence'].std():.3f}\")\n",
    "# save coherence scores to cs"
   ]
  },
  {
   "cell_type": "markdown",
   "metadata": {},
   "source": [
    "# Stop-Words, Non-real words"
   ]
  },
  {
   "cell_type": "code",
   "execution_count": 149,
   "metadata": {},
   "outputs": [],
   "source": [
    "df_dict = {\n",
    "    'LDA': df_lda,\n",
    "    'BERTopic': df_bert,\n",
    "    'S3': df_s3\n",
    "}"
   ]
  },
  {
   "cell_type": "code",
   "execution_count": 150,
   "metadata": {},
   "outputs": [
    {
     "name": "stdout",
     "output_type": "stream",
     "text": [
      "          Stopword Count  Non-Real Word Count\n",
      "LDA                  145                   28\n",
      "BERTopic              81                   21\n",
      "S3                     5                   36\n"
     ]
    },
    {
     "data": {
      "image/png": "[encoded data removed]",
      "text/plain": [
       "<Figure size 640x480 with 1 Axes>"
      ]
     },
     "metadata": {},
     "output_type": "display_data"
    },
    {
     "data": {
      "image/png": "[encoded data removed]",
      "text/plain": [
       "<Figure size 640x480 with 1 Axes>"
      ]
     },
     "metadata": {},
     "output_type": "display_data"
    }
   ],
   "source": [
    "import matplotlib.pyplot as plt\n",
    "import pandas as pd\n",
    "from wordfreq import zipf_frequency\n",
    "from sklearn.feature_extraction.text import ENGLISH_STOP_WORDS\n",
    "\n",
    "# example: df_dict = {'LDA': lda_df, 'NMF': nmf_df, ...}\n",
    "stopwords = set(ENGLISH_STOP_WORDS)\n",
    "valid_single_letters = {'a', 'i'}\n",
    "\n",
    "def is_real_word(w: str, threshold: float = 3.0) -> bool:\n",
    "    w = w.lower()\n",
    "    # skip multi-word phrases entirely\n",
    "    if \" \" in w:\n",
    "        return True\n",
    "    # allow only 'a' or 'i' for single‐letter tokens\n",
    "    if len(w) == 1:\n",
    "        return w in valid_single_letters\n",
    "    # otherwise check wordfreq frequency\n",
    "    return zipf_frequency(w, 'en') >= threshold\n",
    "\n",
    "stop_counts = {}\n",
    "nonreal_counts = {}\n",
    "\n",
    "for name, df in df_dict.items():\n",
    "    words = df.values.flatten().astype(str)\n",
    "    stop_counts[name]    = sum(w.lower() in stopwords for w in words)\n",
    "    nonreal_counts[name] = sum(\n",
    "        (not is_real_word(w)) \n",
    "        for w in words\n",
    "    )\n",
    "\n",
    "# build summary table\n",
    "summary_df = pd.DataFrame({\n",
    "    'Stopword Count':      stop_counts,\n",
    "    'Non-Real Word Count': nonreal_counts\n",
    "})\n",
    "\n",
    "# display\n",
    "print(summary_df)\n",
    "\n",
    "# plot stopwords\n",
    "ax = summary_df['Stopword Count'] \\\n",
    "     .plot.bar(rot=45, title='Stopword Frequency per Model')\n",
    "ax.set_ylabel('Count')\n",
    "plt.tight_layout()\n",
    "plt.show()\n",
    "\n",
    "# plot non-real words\n",
    "ax = summary_df['Non-Real Word Count'] \\\n",
    "     .plot.bar(rot=45, title='Non-Real Word Frequency per Model')\n",
    "ax.set_ylabel('Count')\n",
    "plt.tight_layout()\n",
    "plt.show()\n"
   ]
  },
  {
   "cell_type": "code",
   "execution_count": 153,
   "metadata": {},
   "outputs": [
    {
     "name": "stderr",
     "output_type": "stream",
     "text": [
      "/var/folders/3x/d81s3p9d121_p6l9czkfl60r0000gp/T/ipykernel_70262/1123401929.py:60: MatplotlibDeprecationWarning: The 'labels' parameter of boxplot() has been renamed 'tick_labels' since Matplotlib 3.9; support for the old name will be dropped in 3.11.\n",
      "  bp = ax.boxplot(\n"
     ]
    },
    {
     "data": {
      "image/png": "[encoded data removed]",
      "text/plain": [
       "<Figure size 800x400 with 1 Axes>"
      ]
     },
     "metadata": {},
     "output_type": "display_data"
    },
    {
     "name": "stderr",
     "output_type": "stream",
     "text": [
      "/var/folders/3x/d81s3p9d121_p6l9czkfl60r0000gp/T/ipykernel_70262/1123401929.py:60: MatplotlibDeprecationWarning: The 'labels' parameter of boxplot() has been renamed 'tick_labels' since Matplotlib 3.9; support for the old name will be dropped in 3.11.\n",
      "  bp = ax.boxplot(\n"
     ]
    },
    {
     "data": {
      "image/png": "[encoded data removed]",
      "text/plain": [
       "<Figure size 800x400 with 1 Axes>"
      ]
     },
     "metadata": {},
     "output_type": "display_data"
    }
   ],
   "source": [
    "import matplotlib.pyplot as plt\n",
    "import pandas as pd\n",
    "from wordfreq import zipf_frequency\n",
    "from sklearn.feature_extraction.text import ENGLISH_STOP_WORDS\n",
    "\n",
    "# assume df_dict = {'LDA': lda_df, 'NMF': nmf_df, ...},\n",
    "# where each df is (n_topics × n_words)\n",
    "sns.set_theme(style=\"white\")\n",
    "stopwords = set(ENGLISH_STOP_WORDS)\n",
    "valid_single_letters = {'a', 'i'}\n",
    "THRESHOLD = 3.0   # wordfreq threshold\n",
    "\n",
    "def is_real_word(w: str) -> bool:\n",
    "    \"\"\"Return True for multi-word phrases or frequent tokens.\"\"\"\n",
    "    w = w.lower()\n",
    "    if \" \" in w:\n",
    "        return True\n",
    "    if len(w) == 1:\n",
    "        return w in valid_single_letters\n",
    "    return zipf_frequency(w, 'en') >= THRESHOLD\n",
    "\n",
    "# collect per-topic proportions\n",
    "stop_props    = {}\n",
    "nonreal_props = {}\n",
    "\n",
    "for name, df in df_dict.items():\n",
    "    # df.values is shape (n_topics, n_words)\n",
    "    stops    = []\n",
    "    nonreals = []\n",
    "    for row in df.values:\n",
    "        words = [str(w) for w in row]\n",
    "        # proportion of stopwords in this topic\n",
    "        stops.append(sum(w.lower() in stopwords for w in words) / len(words))\n",
    "        # proportion of non-real words in this topic\n",
    "        nonreals.append(sum(not is_real_word(w) for w in words) / len(words))\n",
    "    stop_props[name]    = stops\n",
    "    nonreal_props[name] = nonreals\n",
    "\n",
    "# turn into DataFrames for boxplot convenience\n",
    "stop_df    = pd.DataFrame(stop_props)\n",
    "nonreal_df = pd.DataFrame(nonreal_props)\n",
    "\n",
    "# common styling\n",
    "plt.rcParams.update({\n",
    "    'font.family':         'serif',\n",
    "    'axes.spines.top':     False,\n",
    "    'axes.spines.right':   False,\n",
    "    'axes.grid':           True,\n",
    "    'axes.grid.axis':      'y',\n",
    "    'grid.color':          '#e5e5e5',\n",
    "    'grid.linewidth':      1.0,\n",
    "    'grid.linestyle':      '-',\n",
    "    'xtick.major.size':    0,\n",
    "    'ytick.major.size':    0,\n",
    "})\n",
    "\n",
    "def styled_boxplot(df, title):\n",
    "    fig, ax = plt.subplots(figsize=(8, 4))\n",
    "    # white boxes with black edges\n",
    "    bp = ax.boxplot(\n",
    "        [df[col] for col in df.columns],\n",
    "        labels=df.columns,\n",
    "        patch_artist=True,\n",
    "        boxprops=dict(facecolor='white', edgecolor='black'),\n",
    "        medianprops=dict(color='black'),\n",
    "        whiskerprops=dict(color='black'),\n",
    "        capprops=dict(color='black'),\n",
    "        flierprops=dict(markeredgecolor='black', markerfacecolor='white')\n",
    "    )\n",
    "    # italic & angled x labels\n",
    "    ax.set_xticklabels(df.columns, rotation=30, ha='right', fontstyle='italic')\n",
    "    ax.set_ylabel('Proportion')\n",
    "    ax.set_title(title)\n",
    "    ax.set_axisbelow(True)\n",
    "    plt.tight_layout()\n",
    "    plt.show()\n",
    "\n",
    "# Plot them!\n",
    "styled_boxplot(stop_df,    'Per-Topic Stopword Proportions')\n",
    "styled_boxplot(nonreal_df, 'Per-Topic Non-Real Word Proportions')\n"
   ]
  },
  {
   "cell_type": "code",
   "execution_count": 154,
   "metadata": {},
   "outputs": [
    {
     "data": {
      "image/png": "[encoded data removed]",
      "text/plain": [
       "<Figure size 800x400 with 1 Axes>"
      ]
     },
     "metadata": {},
     "output_type": "display_data"
    },
    {
     "data": {
      "image/png": "[encoded data removed]",
      "text/plain": [
       "<Figure size 800x400 with 1 Axes>"
      ]
     },
     "metadata": {},
     "output_type": "display_data"
    }
   ],
   "source": [
    "import matplotlib.pyplot as plt\n",
    "import pandas as pd\n",
    "\n",
    "# reuse your summary_df from before…\n",
    "\n",
    "# 1) set up a clean, grid style\n",
    "plt.rcParams.update({\n",
    "    'font.family':         'serif',        # serif font\n",
    "    'axes.spines.top':     False,\n",
    "    'axes.spines.right':   False,\n",
    "    'axes.grid':           True,\n",
    "    'axes.grid.axis':      'y',            # only horizontal gridlines\n",
    "    'grid.color':          '#e5e5e5',\n",
    "    'grid.linewidth':      1.0,\n",
    "    'grid.linestyle':      '-',\n",
    "    'xtick.major.size':    0,              # hide tick marks\n",
    "    'ytick.major.size':    0,\n",
    "})\n",
    "\n",
    "def make_styled_bar(column, title):\n",
    "    fig, ax = plt.subplots(figsize=(8, 4))\n",
    "    # white bars with black edges\n",
    "    bars = ax.bar(summary_df.index,\n",
    "                  summary_df[column],\n",
    "                  edgecolor='black',\n",
    "                  facecolor='white',\n",
    "                  width=0.6)\n",
    "    # italic & angled x‐labels \n",
    "    ax.set_xticks(range(len(summary_df)))\n",
    "    ax.set_xticklabels(summary_df.index,\n",
    "                       rotation=30,\n",
    "                       ha='right',\n",
    "                       fontstyle='italic')\n",
    "    ax.set_ylabel('Count')\n",
    "    ax.set_title(title)\n",
    "    ax.set_axisbelow(True)\n",
    "    plt.tight_layout()\n",
    "    plt.show()\n",
    "\n",
    "# now draw your two plots\n",
    "make_styled_bar('Stopword Count',      'Stopword Frequency per Model')\n",
    "make_styled_bar('Non-Real Word Count', 'Non-Real Word Frequency per Model')\n"
   ]
  },
  {
   "cell_type": "markdown",
   "metadata": {},
   "source": [
    "# Testing on Anxiety"
   ]
  },
  {
   "cell_type": "code",
   "execution_count": 156,
   "metadata": {},
   "outputs": [],
   "source": [
    "df_anxiety = pd.read_csv(\"./Data/Combined Data.csv\")\n",
    "df_anxiety = df_anxiety.rename(columns={'statement': 'clean_text'})\n",
    "# filter for anxiety \n",
    "df_anxiety = df_anxiety[df_anxiety['status'].isin(['Anxiety'])]\n",
    "# make anxiety into 1\n",
    "df_anxiety['status'] = df_anxiety['status'].replace({'Anxiety': 1})\n",
    "\n",
    "# exclude nas \n",
    "df_anxiety = df_anxiety.dropna(subset=['clean_text', 'status'])\n",
    "\n",
    "# make all text lower case, remove punctuation \n",
    "df_anxiety['clean_text'] = df_anxiety['clean_text'].str.lower()\n",
    "df_anxiety['clean_text'] = df_anxiety['clean_text'].str.replace(r'[^\\w\\s]', '', regex=True)\n",
    "\n",
    "# now we're using all of them as test \n",
    "X_test_a = df_anxiety.clean_text.tolist()\n",
    "y_test_a = df_anxiety.status.tolist()"
   ]
  },
  {
   "cell_type": "code",
   "execution_count": 157,
   "metadata": {},
   "outputs": [
    {
     "name": "stdout",
     "output_type": "stream",
     "text": [
      "Mean text length: 143.39\n",
      "Standard deviation text length: 152.20\n"
     ]
    }
   ],
   "source": [
    "# get mean and sd text length from df\n",
    "mean_text_length = df_anxiety['clean_text'].str.split().str.len().mean()\n",
    "std_text_length = df_anxiety['clean_text'].str.split().str.len().std()\n",
    "# print them\n",
    "print(f\"Mean text length: {mean_text_length:.2f}\")\n",
    "print(f\"Standard deviation text length: {std_text_length:.2f}\")"
   ]
  },
  {
   "cell_type": "markdown",
   "metadata": {},
   "source": [
    "## Making topic embeddings"
   ]
  },
  {
   "cell_type": "code",
   "execution_count": 158,
   "metadata": {},
   "outputs": [],
   "source": [
    "# 1) Turn them into the same bag-of-words space:\n",
    "W_anxiety = cv_lda.transform(X_test_a)\n",
    "# 2) Map counts → topic proportions:\n",
    "X_a_lda = lda.transform(W_anxiety)    # shape (n_anxiety, n_topics)\n",
    "\n",
    "# bert \n",
    "X_test_a_bert = enc.transform(np.array(topic_model.transform(X_test_a)[0]).reshape(-1,1))\n",
    "\n",
    "#s3 \n",
    "X_test_a_s3 = model_s3.transform(X_test_a)"
   ]
  },
  {
   "cell_type": "markdown",
   "metadata": {},
   "source": [
    "## Predicting"
   ]
  },
  {
   "cell_type": "code",
   "execution_count": 160,
   "metadata": {},
   "outputs": [
    {
     "name": "stdout",
     "output_type": "stream",
     "text": [
      "              precision    recall  f1-score   support\n",
      "\n",
      "           0       0.00      0.00      0.00         0\n",
      "           1       1.00      0.80      0.89      3841\n",
      "\n",
      "    accuracy                           0.80      3841\n",
      "   macro avg       0.50      0.40      0.44      3841\n",
      "weighted avg       1.00      0.80      0.89      3841\n",
      "\n",
      "              precision    recall  f1-score   support\n",
      "\n",
      "           0       0.00      0.00      0.00         0\n",
      "           1       1.00      0.86      0.92      3841\n",
      "\n",
      "    accuracy                           0.86      3841\n",
      "   macro avg       0.50      0.43      0.46      3841\n",
      "weighted avg       1.00      0.86      0.92      3841\n",
      "\n",
      "              precision    recall  f1-score   support\n",
      "\n",
      "           0       0.00      0.00      0.00         0\n",
      "           1       1.00      0.87      0.93      3841\n",
      "\n",
      "    accuracy                           0.87      3841\n",
      "   macro avg       0.50      0.44      0.47      3841\n",
      "weighted avg       1.00      0.87      0.93      3841\n",
      "\n"
     ]
    }
   ],
   "source": [
    "# use same models as before \n",
    "model_lda_a = best_models['LDA']\n",
    "model_bert_a = best_models['BERTopic']\n",
    "model_s3_a = best_models['S3']\n",
    "\n",
    "# predict \n",
    "y_pred_a_lda = model_lda_a.predict(X_a_lda)\n",
    "y_pred_a_bert = model_bert_a.predict(X_test_a_bert)\n",
    "y_pred_a_s3 = model_s3_a.predict(X_test_a_s3)\n",
    "# print classification reports \n",
    "from sklearn.metrics import classification_report\n",
    "print(classification_report(y_test_a, y_pred_a_lda))\n",
    "print(classification_report(y_test_a, y_pred_a_bert))\n",
    "print(classification_report(y_test_a, y_pred_a_s3))\n",
    "\n",
    "# make feature importances using permutation importance\n",
    "perm_a_lda = permutation_importance(model_lda_a, X_a_lda, y_test_a)\n",
    "perm_a_bert = permutation_importance(model_bert_a, X_test_a_bert, y_test_a)\n",
    "perm_a_s3 = permutation_importance(model_s3_a, X_test_a_s3, y_test_a)\n",
    "\n",
    "# save feature importances to df \n",
    "df_a_lda = pd.DataFrame(perm_a_lda.importances_mean, columns=['importance'])\n",
    "df_a_lda['feature'] = features_lda[1:]\n",
    "df_a_lda['model'] = 'LDA'\n",
    "df_a_bert = pd.DataFrame(perm_a_bert.importances_mean, columns=['importance'])\n",
    "df_a_bert['feature'] = features_bert[1:]\n",
    "df_a_bert['model'] = 'BERTopic'\n",
    "df_a_s3 = pd.DataFrame(perm_a_s3.importances_mean, columns=['importance'])\n",
    "df_a_s3['feature'] = features_s3[1:]\n",
    "df_a_s3['model'] = 'S3'\n",
    "\n",
    "# save each feature importance df as csv\n",
    "df_a_lda.to_csv('./feature_importances/Anx/lda_anxiety.csv', index=False)\n",
    "df_a_bert.to_csv('./feature_importances/Anx/bert_anxiety.csv', index=False)\n",
    "df_a_s3.to_csv('./feature_importances/Anx/s3_anxiety.csv', index=False)\n"
   ]
  },
  {
   "cell_type": "code",
   "execution_count": 161,
   "metadata": {},
   "outputs": [
    {
     "data": {
      "image/png": "[encoded data removed]",
      "text/plain": [
       "<Figure size 640x480 with 2 Axes>"
      ]
     },
     "metadata": {},
     "output_type": "display_data"
    },
    {
     "data": {
      "image/png": "[encoded data removed]",
      "text/plain": [
       "<Figure size 640x480 with 2 Axes>"
      ]
     },
     "metadata": {},
     "output_type": "display_data"
    },
    {
     "data": {
      "image/png": "[encoded data removed]",
      "text/plain": [
       "<Figure size 640x480 with 2 Axes>"
      ]
     },
     "metadata": {},
     "output_type": "display_data"
    }
   ],
   "source": [
    "# make confusion matrices, packages are already imported\n",
    "import matplotlib.pyplot as plt\n",
    "from sklearn.metrics import confusion_matrix, ConfusionMatrixDisplay\n",
    "import seaborn as sns\n",
    "import pandas as pd\n",
    "sns.set_style('white')  # or 'ticks'\n",
    "\n",
    "# make confusion matrices for each model\n",
    "def plot_confusion_matrix(y_true, y_pred, model_name):\n",
    "    cm = confusion_matrix(y_true, y_pred)\n",
    "    disp = ConfusionMatrixDisplay(confusion_matrix=cm)\n",
    "    disp.plot(cmap='Blues')\n",
    "    plt.title(f'Confusion Matrix for {model_name}')\n",
    "    plt.show()\n",
    "\n",
    "# plot confusion matrices for each model\n",
    "plot_confusion_matrix(y_test_a, y_pred_a_lda, 'LDA')\n",
    "plot_confusion_matrix(y_test_a, y_pred_a_bert, 'BERTopic')\n",
    "plot_confusion_matrix(y_test_a, y_pred_a_s3, 'S3')"
   ]
  },
  {
   "cell_type": "code",
   "execution_count": 162,
   "metadata": {},
   "outputs": [],
   "source": [
    "# convert y_test_a into numpy array\n",
    "y_test_a = np.array(y_test_a)"
   ]
  },
  {
   "cell_type": "code",
   "execution_count": 163,
   "metadata": {},
   "outputs": [],
   "source": [
    "# get the indices of the true positives and false negatives from the s3 model\n",
    "true_positives = np.where((y_test_a == 1) & (y_pred_a_s3 == 1))\n",
    "false_negatives = np.where((y_test_a == 1) & (y_pred_a_s3 == 0))\n",
    "\n",
    "true_positives_dep = np.where((y_test == 1) & (y_pred == 1))"
   ]
  },
  {
   "cell_type": "code",
   "execution_count": 165,
   "metadata": {},
   "outputs": [],
   "source": [
    "# find mean for each topic in X_test_a_s3: \n",
    "\n",
    "mean_s3 = np.mean(X_test_a_s3, axis=0)\n",
    "\n",
    "# compute mean for each topic with indices true_positives\n",
    "mean_true_positives = np.mean(X_test_a_s3[true_positives], axis=0)\n",
    "# compute mean for each topic with indices false_negatives\n",
    "mean_false_negatives = np.mean(X_test_a_s3[false_negatives], axis=0)\n",
    "\n",
    "mean_actual_depression = np.mean(X_test_s3[true_positives_dep], axis=0)\n",
    "\n",
    "# mean_s3 is shape (20,)\n",
    "# features_s3 is length-20 list of names\n",
    "\n",
    "df_s3 = pd.DataFrame({\n",
    "    'feature': features_s3[1:],\n",
    "    'mean_actual_depression': mean_actual_depression,\n",
    "    'mean_anxiety_all': mean_s3,\n",
    "    'mean_depression_classified': mean_true_positives,\n",
    "    'mean_nondepression_classified': mean_false_negatives,\n",
    "})\n",
    "\n",
    "# add a column that contains \n",
    "\n",
    "\n",
    "# sort df_s3 by mean \n",
    "df_s3 = df_s3.sort_values('mean_anxiety_all', ascending=False)\n",
    "df_s3.to_csv('mean_s3_anxiety.csv', index=False)\n"
   ]
  },
  {
   "cell_type": "markdown",
   "metadata": {},
   "source": [
    "## Tables for general Anxiety vs. Depression"
   ]
  },
  {
   "cell_type": "code",
   "execution_count": 167,
   "metadata": {},
   "outputs": [],
   "source": [
    "import numpy as np\n",
    "import pandas as pd\n",
    "\n",
    "# select depression‐labeled test rows\n",
    "depres_test = np.where(y_test == 1)[0]\n",
    "\n",
    "# slice out each feature matrix for depression\n",
    "X_depres_lda  = X_test_lda[depres_test]\n",
    "X_depres_bert = X_test_bert[depres_test]\n",
    "X_depres_s3   = X_test_s3[depres_test]\n",
    "\n",
    "# 1) means\n",
    "mean_lda_dep  = np.mean(X_depres_lda, axis=0)\n",
    "mean_bert_dep = np.mean(X_depres_bert, axis=0)\n",
    "mean_s3_dep   = np.mean(X_depres_s3, axis=0)\n",
    "\n",
    "mean_lda_a    = np.mean(X_a_lda, axis=0)\n",
    "mean_bert_a   = np.mean(X_test_a_bert, axis=0)\n",
    "mean_s3_a     = np.mean(X_test_a_s3, axis=0)\n",
    "\n",
    "# 2) standard deviations\n",
    "sd_lda_dep    = np.std(X_depres_lda, axis=0)\n",
    "sd_bert_dep   = np.std(X_depres_bert, axis=0)\n",
    "sd_s3_dep     = np.std(X_depres_s3, axis=0)\n",
    "\n",
    "sd_lda_a      = np.std(X_a_lda, axis=0)\n",
    "sd_bert_a     = np.std(X_test_a_bert, axis=0)\n",
    "sd_s3_a       = np.std(X_test_a_s3, axis=0)\n",
    "\n",
    "# 3) build DataFrames\n",
    "df_lda = pd.DataFrame({\n",
    "    'feature':         features_lda[1:],\n",
    "    'mean_depression': mean_lda_dep,\n",
    "    'sd_depression':   sd_lda_dep,\n",
    "    'mean_anxiety':    mean_lda_a,\n",
    "    'sd_anxiety':      sd_lda_a,\n",
    "})\n",
    "\n",
    "df_bert = pd.DataFrame({\n",
    "    'feature':         features_bert[1:],\n",
    "    'mean_depression': mean_bert_dep,\n",
    "    'sd_depression':   sd_bert_dep,\n",
    "    'mean_anxiety':    mean_bert_a,\n",
    "    'sd_anxiety':      sd_bert_a,\n",
    "})\n",
    "\n",
    "df_s3 = pd.DataFrame({\n",
    "    'feature':         features_s3[1:],\n",
    "    'mean_depression': mean_s3_dep,\n",
    "    'sd_depression':   sd_s3_dep,\n",
    "    'mean_anxiety':    mean_s3_a,\n",
    "    'sd_anxiety':      sd_s3_a,\n",
    "})\n"
   ]
  },
  {
   "cell_type": "code",
   "execution_count": 168,
   "metadata": {},
   "outputs": [
    {
     "name": "stdout",
     "output_type": "stream",
     "text": [
      "\n",
      "=== LDA topics ===\n",
      "Top 5 more activated in depression:\n",
      "              feature  mean_depression  sd_depression  mean_anxiety  sd_anxiety     diff\n",
      "   Generic Pronouns A         0.157086       0.210523      0.029363    0.089642 0.127723\n",
      "   Generic Pronouns C         0.177944       0.234847      0.087813    0.174920 0.090131\n",
      "  Depression Keywords         0.038049       0.104775      0.009701    0.036274 0.028348\n",
      " Depression & Anxiety         0.028082       0.124302      0.005375    0.023904 0.022707\n",
      "Second-Person Address         0.050902       0.123853      0.036588    0.097299 0.014314\n",
      "\n",
      "Top 5 more activated in anxiety:\n",
      "                feature  mean_depression  sd_depression  mean_anxiety  sd_anxiety      diff\n",
      "             Self-Focus         0.216002       0.245261      0.460415    0.297403 -0.244413\n",
      "Contractions & Negation         0.026345       0.093067      0.086752    0.095903 -0.060407\n",
      "     Generic Pronouns B         0.064502       0.135790      0.097213    0.150462 -0.032711\n",
      "      Physical Symptoms         0.007941       0.035190      0.018495    0.060372 -0.010554\n",
      " First-Person Narration         0.009861       0.041989      0.014069    0.054560 -0.004207\n",
      "\n",
      "=== BERT topics ===\n",
      "Top 5 more activated in depression:\n",
      "                      feature  mean_depression  sd_depression  mean_anxiety  sd_anxiety     diff\n",
      "    Stopwords & Common Tokens         0.123859       0.329421      0.089039    0.284800 0.034820\n",
      "  French Articles & Fragments         0.018253       0.133865      0.000000    0.000000 0.018253\n",
      "Socioeconomic & Mental Health         0.003911       0.062418      0.000000    0.000000 0.003911\n",
      "       Football Personalities         0.002608       0.050998      0.000000    0.000000 0.002608\n",
      "   Affection & Social Support         0.002608       0.050998      0.001041    0.032254 0.001566\n",
      "\n",
      "Top 5 more activated in anxiety:\n",
      "                   feature  mean_depression  sd_depression  mean_anxiety  sd_anxiety      diff\n",
      "              Sleep & Rest         0.007823       0.088099      0.041916    0.200398 -0.034093\n",
      " Pronouns & Function Words         0.833116       0.372872      0.858891    0.348134 -0.025775\n",
      "Social Media & Mobile Tech         0.000000       0.000000      0.001041    0.032254 -0.001041\n",
      "          Weather & Nature         0.000000       0.000000      0.001041    0.032254 -0.001041\n",
      "    Education & Schoolwork         0.001304       0.036084      0.002083    0.045590 -0.000779\n",
      "\n",
      "=== S3 topics ===\n",
      "Top 5 more activated in depression:\n",
      "                    feature  mean_depression  sd_depression  mean_anxiety  sd_anxiety     diff\n",
      "Depression & Mood Disorders         0.367747       1.212137     -0.360596    0.540440 0.728343\n",
      "    Healthcare & Assistance         0.137979       1.058297     -0.270304    0.947632 0.408283\n",
      "            Abuse & Therapy         0.257706       0.787335     -0.070939    0.756684 0.328645\n",
      " Socializing & Introversion         0.111931       1.138336      0.027255    0.926182 0.084676\n",
      "        Gender & Appearance         0.108647       0.850211      0.043939    0.748522 0.064708\n",
      "\n",
      "Top 5 more activated in anxiety:\n",
      "                    feature  mean_depression  sd_depression  mean_anxiety  sd_anxiety      diff\n",
      "             Anxiety & Fear         0.280392       1.212576      1.680271    1.052385 -1.399879\n",
      "Physical Illness & Symptoms        -0.098304       0.852095      0.726441    1.231588 -0.824745\n",
      "   Satisfaction & Workplace        -0.310215       1.116096      0.155719    0.764046 -0.465934\n",
      "        Adverbs & Modifiers         0.017552       0.836203      0.468353    0.848169 -0.450800\n",
      "    Psychiatric Medications         0.122004       1.066795      0.500995    1.061958 -0.378991\n"
     ]
    }
   ],
   "source": [
    "for name, df in [('LDA', df_lda),\n",
    "                 ('BERT', df_bert),\n",
    "                 ('S3', df_s3)]:\n",
    "\n",
    "    # 1) compute the difference\n",
    "    df = df.copy()\n",
    "    df['diff'] = df['mean_depression'] - df['mean_anxiety']\n",
    "\n",
    "\n",
    "    # 2) top 5 where depression > anxiety\n",
    "    top_dep = df.nlargest(5, 'diff')[[\n",
    "        'feature',\n",
    "        'mean_depression', 'sd_depression',\n",
    "        'mean_anxiety',    'sd_anxiety',\n",
    "        'diff'\n",
    "    ]]\n",
    "\n",
    "    # 3) top 5 where anxiety > depression\n",
    "    top_anx = df.nsmallest(5, 'diff')[[\n",
    "        'feature',\n",
    "        'mean_depression', 'sd_depression',\n",
    "        'mean_anxiety',    'sd_anxiety',\n",
    "        'diff'\n",
    "    ]]\n",
    "\n",
    "    # 4) print\n",
    "    print(f\"\\n=== {name} topics ===\")\n",
    "    print(\"Top 5 more activated in depression:\")\n",
    "    print(top_dep.to_string(index=False))\n",
    "    print(\"\\nTop 5 more activated in anxiety:\")\n",
    "    print(top_anx.to_string(index=False))\n"
   ]
  },
  {
   "cell_type": "markdown",
   "metadata": {},
   "source": [
    "## Tables for Anxiety inter-prediction differences"
   ]
  },
  {
   "cell_type": "code",
   "execution_count": 169,
   "metadata": {},
   "outputs": [],
   "source": [
    "import numpy as np\n",
    "import pandas as pd\n",
    "\n",
    "# get indices for each model\n",
    "#lda\n",
    "lda_indices_ad = np.where((y_test_a == 1) & (y_pred_a_lda == 1))\n",
    "lda_indices_an = np.where((y_test_a == 1) & (y_pred_a_lda == 0))\n",
    "#bert\n",
    "bert_indices_ad = np.where((y_test_a == 1) & (y_pred_a_bert == 1))\n",
    "bert_indices_an = np.where((y_test_a == 1) & (y_pred_a_bert == 0))\n",
    "#s3\n",
    "s3_indices_ad = np.where((y_test_a == 1) & (y_pred_a_s3 == 1))\n",
    "s3_indices_an = np.where((y_test_a == 1) & (y_pred_a_s3 == 0))\n",
    "\n",
    "# create new X matrices\n",
    "lda_anx_dep = X_a_lda[lda_indices_ad]\n",
    "lda_anx_nor = X_a_lda[lda_indices_an]\n",
    "\n",
    "bert_anx_dep = X_test_a_bert[bert_indices_ad]\n",
    "bert_anx_nor = X_test_a_bert[bert_indices_an]\n",
    "\n",
    "s3_anx_dep = X_test_a_s3[s3_indices_ad]\n",
    "s3_anx_nor = X_test_a_s3[s3_indices_an]\n",
    "\n",
    "# compute means for each x \n",
    "mean_lda_anx_dep = np.mean(lda_anx_dep, axis=0)\n",
    "mean_lda_anx_nor = np.mean(lda_anx_nor, axis=0)\n",
    "mean_bert_anx_dep = np.mean(bert_anx_dep, axis=0)\n",
    "mean_bert_anx_nor = np.mean(bert_anx_nor, axis=0)\n",
    "mean_s3_anx_dep = np.mean(s3_anx_dep, axis=0)\n",
    "mean_s3_anx_nor = np.mean(s3_anx_nor, axis=0)\n",
    "\n",
    "# compute standard deviations for each x\n",
    "sd_lda_anx_dep = np.std(lda_anx_dep, axis=0)\n",
    "sd_lda_anx_nor = np.std(lda_anx_nor, axis=0)\n",
    "sd_bert_anx_dep = np.std(bert_anx_dep, axis=0)\n",
    "sd_bert_anx_nor = np.std(bert_anx_nor, axis=0)\n",
    "sd_s3_anx_dep = np.std(s3_anx_dep, axis=0)\n",
    "sd_s3_anx_nor = np.std(s3_anx_nor, axis=0)\n",
    "\n",
    "# build dataframe for each model \n",
    "df_lda = pd.DataFrame({\n",
    "    'feature': features_lda[1:],\n",
    "    'mean_anxiety_depression': mean_lda_anx_dep,\n",
    "    'sd_anxiety_depression': sd_lda_anx_dep,\n",
    "    'mean_anxiety_nondepression': mean_lda_anx_nor,\n",
    "    'sd_anxiety_nondepression': sd_lda_anx_nor,\n",
    "})\n",
    "\n",
    "df_bert = pd.DataFrame({\n",
    "    'feature': features_bert[1:],\n",
    "    'mean_anxiety_depression': mean_bert_anx_dep,\n",
    "    'sd_anxiety_depression': sd_bert_anx_dep,\n",
    "    'mean_anxiety_nondepression': mean_bert_anx_nor,\n",
    "    'sd_anxiety_nondepression': sd_bert_anx_nor,\n",
    "})\n",
    "\n",
    "df_s3 = pd.DataFrame({\n",
    "    'feature': features_s3[1:],\n",
    "    'mean_anxiety_depression': mean_s3_anx_dep,\n",
    "    'sd_anxiety_depression': sd_s3_anx_dep,\n",
    "    'mean_anxiety_nondepression': mean_s3_anx_nor,\n",
    "    'sd_anxiety_nondepression': sd_s3_anx_nor,\n",
    "})"
   ]
  },
  {
   "cell_type": "code",
   "execution_count": 170,
   "metadata": {},
   "outputs": [
    {
     "name": "stdout",
     "output_type": "stream",
     "text": [
      "\n",
      "=== LDA topics ===\n",
      "Top 5 more activated in depression classification of anxiety:\n",
      "           feature  mean_anxiety_depression  sd_anxiety_depression  mean_anxiety_nondepression  sd_anxiety_nondepression      diff\n",
      "        Self-Focus                 0.537612               0.250871                    0.150520                  0.266282  0.387091\n",
      "Generic Pronouns B                 0.103041               0.140575                    0.073817                  0.183046  0.029224\n",
      "Generic Pronouns E                 0.059965               0.106061                    0.047431                  0.141503  0.012534\n",
      "Generic Pronouns D                 0.033619               0.070336                    0.029799                  0.103473  0.003821\n",
      "   Male References                 0.004522               0.014409                    0.009108                  0.021631 -0.004585\n",
      "\n",
      "Top 5 more activated in non-depression classification of anxiety:\n",
      "                feature  mean_anxiety_depression  sd_anxiety_depression  mean_anxiety_nondepression  sd_anxiety_nondepression      diff\n",
      "     Generic Pronouns C                 0.062392               0.135927                    0.189861                  0.257386 -0.127468\n",
      "  Second-Person Address                 0.025581               0.069056                    0.080775                  0.160901 -0.055195\n",
      "Contractions & Negation                 0.077548               0.058703                    0.123701                  0.174870 -0.046154\n",
      "      Physical Symptoms                 0.010125               0.025706                    0.052094                  0.119220 -0.041969\n",
      " First-Person Narration                 0.008155               0.026093                    0.037809                  0.107190 -0.029654\n",
      "\n",
      "=== BERT topics ===\n",
      "Top 5 more activated in depression classification of anxiety:\n",
      "                    feature  mean_anxiety_depression  sd_anxiety_depression  mean_anxiety_nondepression  sd_anxiety_nondepression  diff\n",
      "  Pronouns & Function Words                      1.0                    0.0                         0.0                       0.0   1.0\n",
      "French Articles & Fragments                      0.0                    0.0                         0.0                       0.0   0.0\n",
      "          Fashion & Apparel                      0.0                    0.0                         0.0                       0.0   0.0\n",
      "   Internet Slang & Fillers                      0.0                    0.0                         0.0                       0.0   0.0\n",
      "     Football Personalities                      0.0                    0.0                         0.0                       0.0   0.0\n",
      "\n",
      "Top 5 more activated in non-depression classification of anxiety:\n",
      "                  feature  mean_anxiety_depression  sd_anxiety_depression  mean_anxiety_nondepression  sd_anxiety_nondepression      diff\n",
      "Stopwords & Common Tokens                      0.0                    0.0                    0.630996                  0.482535 -0.630996\n",
      "             Sleep & Rest                      0.0                    0.0                    0.297048                  0.456958 -0.297048\n",
      "           Pets & Animals                      0.0                    0.0                    0.018450                  0.134573 -0.018450\n",
      "   Education & Schoolwork                      0.0                    0.0                    0.014760                  0.120591 -0.014760\n",
      "       Calendars & Events                      0.0                    0.0                    0.009225                  0.095603 -0.009225\n",
      "\n",
      "=== S3 topics ===\n",
      "Top 5 more activated in depression classification of anxiety:\n",
      "                 feature  mean_anxiety_depression  sd_anxiety_depression  mean_anxiety_nondepression  sd_anxiety_nondepression     diff\n",
      "          Anxiety & Fear                 1.880766               0.960555                    0.321861                  0.492231 1.558905\n",
      " Healthcare & Assistance                -0.233024               0.950387                   -0.522893                  0.888456 0.289869\n",
      "Mental Health Conditions                -0.001413               0.860305                   -0.253769                  0.881303 0.252356\n",
      "     Gender & Appearance                 0.056951               0.734271                   -0.044221                  0.833384 0.101172\n",
      "  Social Media Platforms                 0.085037               0.693068                   -0.009158                  0.815861 0.094194\n",
      "\n",
      "Top 5 more activated in non-depression classification of anxiety:\n",
      "                    feature  mean_anxiety_depression  sd_anxiety_depression  mean_anxiety_nondepression  sd_anxiety_nondepression      diff\n",
      "               Sleep & Rest                -0.120149               1.006303                    0.441006                  1.683891 -0.561155\n",
      "          Media & Downloads                -0.062660               0.745389                    0.465365                  1.043540 -0.528025\n",
      "      Curiosity & Frequency                -0.104217               1.157863                    0.255093                  0.601030 -0.359310\n",
      "        Adverbs & Modifiers                 0.433887               0.825045                    0.701867                  0.958627 -0.267980\n",
      "Physical Illness & Symptoms                 0.704023               1.194789                    0.878329                  1.447514 -0.174306\n"
     ]
    }
   ],
   "source": [
    "for name, df in [('LDA', df_lda),\n",
    "                 ('BERT', df_bert),\n",
    "                 ('S3', df_s3)]:\n",
    "\n",
    "    # 1) compute the difference\n",
    "    df = df.copy()\n",
    "    df['diff'] = df['mean_anxiety_depression'] - df['mean_anxiety_nondepression']\n",
    "\n",
    "\n",
    "    # 2) top 5 where depression > anxiety\n",
    "    top_dep = df.nlargest(5, 'diff')[[\n",
    "        'feature',\n",
    "        'mean_anxiety_depression', 'sd_anxiety_depression',\n",
    "        'mean_anxiety_nondepression',    'sd_anxiety_nondepression',\n",
    "        'diff'\n",
    "    ]]\n",
    "\n",
    "    # 3) top 5 where anxiety > depression\n",
    "    top_anx = df.nsmallest(5, 'diff')[[\n",
    "        'feature',\n",
    "        'mean_anxiety_depression', 'sd_anxiety_depression',\n",
    "        'mean_anxiety_nondepression',    'sd_anxiety_nondepression',\n",
    "        'diff'\n",
    "    ]]\n",
    "\n",
    "    # 4) print\n",
    "    print(f\"\\n=== {name} topics ===\")\n",
    "    print(\"Top 5 more activated in depression classification of anxiety:\")\n",
    "    print(top_dep.to_string(index=False))\n",
    "    print(\"\\nTop 5 more activated in non-depression classification of anxiety:\")\n",
    "    print(top_anx.to_string(index=False))\n"
   ]
  }
 ],
 "metadata": {
  "kernelspec": {
   "display_name": "Python 3",
   "language": "python",
   "name": "python3"
  },
  "language_info": {
   "codemirror_mode": {
    "name": "ipython",
    "version": 3
   },
   "file_extension": ".py",
   "mimetype": "text/x-python",
   "name": "python",
   "nbconvert_exporter": "python",
   "pygments_lexer": "ipython3",
   "version": "3.10.17"
  }
 },
 "nbformat": 4,
 "nbformat_minor": 2
}
